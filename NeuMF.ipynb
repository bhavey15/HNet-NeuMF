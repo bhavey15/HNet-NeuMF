{
  "nbformat": 4,
  "nbformat_minor": 0,
  "metadata": {
    "colab": {
      "name": "CF_Project",
      "provenance": [],
      "collapsed_sections": []
    },
    "kernelspec": {
      "name": "python3",
      "display_name": "Python 3"
    }
  },
  "cells": [
    {
      "cell_type": "code",
      "metadata": {
        "id": "w5N-KnTxkNUB",
        "colab": {
          "base_uri": "https://localhost:8080/"
        },
        "outputId": "4a6af9ec-8b69-49fb-d654-fb20e2841ddb"
      },
      "source": [
        "!pip install implicit\n",
        "import numpy as np\n",
        "import pandas as pd\n",
        "import matplotlib.pyplot as plt\n",
        "import implicit\n",
        "from sklearn.preprocessing import MinMaxScaler\n",
        "from sklearn import metrics\n",
        "import scipy.sparse as sparse\n",
        "import pandas as pd\n",
        "import numpy as np\n",
        "import torch\n",
        "import torch.nn as nn\n",
        "import torch.nn.functional as F\n",
        "from sklearn.model_selection import train_test_split\n",
        "from torch.utils.data import Dataset\n",
        "from sklearn.metrics import accuracy_score,precision_recall_curve,roc_curve, auc, f1_score, roc_auc_score, precision_score, recall_score"
      ],
      "execution_count": null,
      "outputs": [
        {
          "output_type": "stream",
          "text": [
            "Collecting implicit\n",
            "\u001b[?25l  Downloading https://files.pythonhosted.org/packages/bc/07/c0121884722d16e2c5beeb815f6b84b41cbf22e738e4075f1475be2791bc/implicit-0.4.4.tar.gz (1.1MB)\n",
            "\u001b[K     |████████████████████████████████| 1.1MB 3.9MB/s \n",
            "\u001b[?25hRequirement already satisfied: numpy in /usr/local/lib/python3.7/dist-packages (from implicit) (1.19.5)\n",
            "Requirement already satisfied: scipy>=0.16 in /usr/local/lib/python3.7/dist-packages (from implicit) (1.4.1)\n",
            "Requirement already satisfied: tqdm>=4.27 in /usr/local/lib/python3.7/dist-packages (from implicit) (4.41.1)\n",
            "Building wheels for collected packages: implicit\n",
            "  Building wheel for implicit (setup.py) ... \u001b[?25l\u001b[?25hdone\n",
            "  Created wheel for implicit: filename=implicit-0.4.4-cp37-cp37m-linux_x86_64.whl size=3406409 sha256=e0de4c3078775e4299fab4c0eac5f1528266a74705fad7d323b0912491b4431f\n",
            "  Stored in directory: /root/.cache/pip/wheels/bf/d4/ec/fd4f622fcbefb7521f149905295b2c26adecb23af38aa28217\n",
            "Successfully built implicit\n",
            "Installing collected packages: implicit\n",
            "Successfully installed implicit-0.4.4\n"
          ],
          "name": "stdout"
        }
      ]
    },
    {
      "cell_type": "markdown",
      "metadata": {
        "id": "csAfDVZjsyQv"
      },
      "source": [
        "##**C Dataset**"
      ]
    },
    {
      "cell_type": "code",
      "metadata": {
        "id": "4xlz9hk7j68a",
        "colab": {
          "base_uri": "https://localhost:8080/"
        },
        "outputId": "86e0a75c-46cc-4502-9224-f0fbf8ff5f85"
      },
      "source": [
        "#Disease Features from heterogeneous network\n",
        "dis_features = pd.read_csv('/content/drive/MyDrive/CF Dataset/CDataset/disease_feature.txt', header=None)\n",
        "dis_features = dis_features.iloc[:,1:].values\n",
        "dis_features.shape"
      ],
      "execution_count": null,
      "outputs": [
        {
          "output_type": "execute_result",
          "data": {
            "text/plain": [
              "(409, 1071)"
            ]
          },
          "metadata": {
            "tags": []
          },
          "execution_count": 2
        }
      ]
    },
    {
      "cell_type": "code",
      "metadata": {
        "colab": {
          "base_uri": "https://localhost:8080/"
        },
        "id": "xBJTGvPnHycM",
        "outputId": "987b9045-1a22-404f-f0fa-6b949c1b036b"
      },
      "source": [
        "#Drug Features from heterogeneous network\n",
        "drug_features = pd.read_csv('/content/drive/MyDrive/CF Dataset/CDataset/drug_feature.txt', header=None)\n",
        "drug_features = drug_features.iloc[:,1:].values\n",
        "drug_features.shape"
      ],
      "execution_count": null,
      "outputs": [
        {
          "output_type": "execute_result",
          "data": {
            "text/plain": [
              "(663, 1071)"
            ]
          },
          "metadata": {
            "tags": []
          },
          "execution_count": 3
        }
      ]
    },
    {
      "cell_type": "code",
      "metadata": {
        "id": "6AKqj-2cIJ2n",
        "colab": {
          "base_uri": "https://localhost:8080/"
        },
        "outputId": "aa8b3456-9105-4442-d3d9-373ce24faee0"
      },
      "source": [
        "#Drug Disease Association Matrix\n",
        "dda_mat = pd.read_csv('/content/drive/MyDrive/CF Dataset/CDataset/DiDrAMat.txt', sep = ' ', header=None)\n",
        "dda_mat = dda_mat.values\n",
        "dda_mat.shape"
      ],
      "execution_count": null,
      "outputs": [
        {
          "output_type": "execute_result",
          "data": {
            "text/plain": [
              "(409, 663)"
            ]
          },
          "metadata": {
            "tags": []
          },
          "execution_count": 4
        }
      ]
    },
    {
      "cell_type": "code",
      "metadata": {
        "colab": {
          "base_uri": "https://localhost:8080/"
        },
        "id": "NYluxRI5M4Oi",
        "outputId": "9ff9802b-712f-4e7b-c8a1-9c66727690c8"
      },
      "source": [
        "#Getting the train, validation and test datasets.\n",
        "train = pd.read_csv('/content/drive/MyDrive/CF Dataset/CDataset/train.txt', sep=' ',header=None)\n",
        "# drug_features = pd.read_csv('/content/drive/MyDrive/CF Dataset/CDataset/drug_feature.txt', header=None)\n",
        "val = pd.read_csv('/content/drive/MyDrive/CF Dataset/CDataset/valid.txt', sep=' ',header=None)\n",
        "test = pd.read_csv('/content/drive/MyDrive/CF Dataset/CDataset/test.txt', sep=' ',header=None)\n",
        "final_data = pd.concat([train,val],ignore_index=True, sort=False)\n",
        "# train.head(),val.head(),test.head()\n",
        "final_data.head(),final_data.shape"
      ],
      "execution_count": null,
      "outputs": [
        {
          "output_type": "execute_result",
          "data": {
            "text/plain": [
              "(         0        1  2\n",
              " 0  DB00125  D137215  0\n",
              " 1  DB01099  D312910  0\n",
              " 2  DB00271  D175100  0\n",
              " 3  DB00624  D146850  1\n",
              " 4  DB00211  D263300  0, (4557, 3))"
            ]
          },
          "metadata": {
            "tags": []
          },
          "execution_count": 5
        }
      ]
    },
    {
      "cell_type": "code",
      "metadata": {
        "id": "so2AAZNgp2nG"
      },
      "source": [
        "#Drug and Disease Features corresponding to their IDs\n",
        "drug_f = dict()\n",
        "with open('/content/drive/MyDrive/CF Dataset/CDataset/drug_feature.txt', 'r') as f:\n",
        "    for line in f:\n",
        "        drug_id, fp = line.strip().split()\n",
        "        fp = np.array(fp.split(','), dtype='float32')\n",
        "        drug_f[drug_id] = fp\n",
        "\n",
        "disease_f = dict()\n",
        "with open('/content/drive/MyDrive/CF Dataset/CDataset/disease_feature.txt', 'r') as f:\n",
        "    for line in f:\n",
        "        disease_id, md = line.strip().split()\n",
        "        md = np.array(md.split(','), dtype='float32')\n",
        "        disease_f[disease_id] = md"
      ],
      "execution_count": null,
      "outputs": []
    },
    {
      "cell_type": "code",
      "metadata": {
        "id": "OQGfwgZ-73cN"
      },
      "source": [
        "#Giving a code to every drug and disease\n",
        "drug_code={}\n",
        "dis_code={}\n",
        "i=0\n",
        "for drug in drug_f.keys():\n",
        "  drug_code[drug]=i\n",
        "  i+=1\n",
        "i=0\n",
        "for dis in disease_f.keys():\n",
        "  dis_code[dis]=i\n",
        "  i+=1\n"
      ],
      "execution_count": null,
      "outputs": []
    },
    {
      "cell_type": "code",
      "metadata": {
        "id": "8BxvxW_sdsos"
      },
      "source": [
        "#10 Fold CV\n",
        "from sklearn.model_selection import KFold\n",
        "kf = KFold(n_splits=10)\n"
      ],
      "execution_count": null,
      "outputs": []
    },
    {
      "cell_type": "code",
      "metadata": {
        "colab": {
          "base_uri": "https://localhost:8080/"
        },
        "id": "04sx3dUVwnB3",
        "outputId": "0621c848-bb53-4355-9a3f-8b89342b9f86"
      },
      "source": [
        "n_drugs = np.unique(train.iloc[:,0].values).shape[0]\n",
        "n_dis = np.unique(train.iloc[:,1].values).shape[0]\n",
        "print(n_drugs, n_dis)\n",
        "def get_data(data):\n",
        "  \"\"\"\n",
        "  Function that returns all 4 components of data\n",
        "  \"\"\"\n",
        "  train_drug = np.array([drug_code[d] for d in data.iloc[:,0].values])\n",
        "  train_dis = np.array([dis_code[d] for d in data.iloc[:,1].values])\n",
        "  train_drug_features = np.array([drug_f[d] for d in data.iloc[:,0].values])\n",
        "  train_dis_features = np.array([disease_f[d] for d in data.iloc[:,1].values])\n",
        "  return train_drug, train_dis, train_drug_features, train_dis_features\n",
        "train_drug, train_dis, train_drug_features, train_dis_features = get_data(train)"
      ],
      "execution_count": null,
      "outputs": [
        {
          "output_type": "stream",
          "text": [
            "663 409\n"
          ],
          "name": "stdout"
        }
      ]
    },
    {
      "cell_type": "code",
      "metadata": {
        "id": "LigfMSuswucq"
      },
      "source": [
        "#Generalized Matrix Factorization\n",
        "import torch\n",
        "# define the class of GMF model\n",
        "class GMF(torch.nn.Module):\n",
        "    def __init__(self, n_drugs,n_dis,latent_dim=100):\n",
        "        super(GMF, self).__init__()\n",
        "        self.embedding_drug = torch.nn.Embedding(num_embeddings=n_drugs, embedding_dim=latent_dim)\n",
        "        self.embedding_dis = torch.nn.Embedding(num_embeddings=n_dis, embedding_dim=latent_dim)\n",
        "        # add the user and item bias\n",
        "        self.drug_bias = nn.Embedding(n_drugs, 1)\n",
        "        self.dis_bias = nn.Embedding(n_dis, 1)\n",
        "        #uniform the embedding of user and item \n",
        "        self.embedding_drug.weight.data.uniform_(0,0.05)\n",
        "        self.embedding_dis.weight.data.uniform_(0,0.05)\n",
        "        self.drug_bias.weight.data.uniform_(-0.01,0.01)\n",
        "        self.dis_bias.weight.data.uniform_(-0.01,0.01)\n",
        "        self.affine_output = torch.nn.Linear(in_features=latent_dim, out_features=1)\n",
        "        # set sigmoid function\n",
        "        self.logistic = torch.nn.Sigmoid()\n",
        "\n",
        "\n",
        "    def forward(self, user_indices, item_indices):\n",
        "        drug_embedding = self.embedding_drug(user_indices)\n",
        "        dis_embedding = self.embedding_dis(item_indices)\n",
        "        dis_bias_mf = self.dis_bias(item_indices)\n",
        "        drug_bias_mf = self.drug_bias(user_indices)\n",
        "        element_product = torch.mul(drug_embedding, dis_embedding)\n",
        "        element_product = element_product + dis_bias_mf+drug_bias_mf\n",
        "        logits = self.affine_output(element_product)\n",
        "        rating = self.logistic(logits)\n",
        "        # rating = logits\n",
        "        return rating\n",
        "        "
      ],
      "execution_count": null,
      "outputs": []
    },
    {
      "cell_type": "code",
      "metadata": {
        "id": "kLPizU_uw5Pt"
      },
      "source": [
        "def train_epocs_gmf(model, epochs=10, lr=1e-3, wd=0.0, unsqueeze=False):\n",
        "    loss_arr=[]\n",
        "    optimizer = torch.optim.Adam(model.parameters(), lr=lr, weight_decay=wd)\n",
        "    model.train()\n",
        "    for i in range(epochs):\n",
        "        # users = torch.LongTensor(train.iloc[:,0].values)#.cuda()\n",
        "        # items = torch.LongTensor(train.iloc[:,1].values)#.cuda()\n",
        "        users = torch.LongTensor(train_drug)\n",
        "        items = torch.LongTensor(train_dis)\n",
        "        ratings = torch.FloatTensor(train.iloc[:,2].values)#.cuda()\n",
        "        if unsqueeze:\n",
        "            ratings = ratings.unsqueeze(1)\n",
        "        y_hat = model(users, items)\n",
        "        loss = F.mse_loss(y_hat, ratings)\n",
        "        optimizer.zero_grad()\n",
        "        loss.backward()\n",
        "        optimizer.step()\n",
        "        print(loss.item()) \n",
        "        loss_arr.append(loss.item())\n",
        "    # test_loss(model, unsqueeze)\n",
        "    print('save')\n",
        "    # save the weight of model\n",
        "    torch.save(model.state_dict(), 'gmf_model.pt')\n",
        "    plt.plot(loss_arr)\n",
        "    plt.xlabel('epochs')\n",
        "    plt.ylabel('MSE loss')\n",
        "    plt.title('GMF')\n",
        "    plt.savefig('/content/drive/MyDrive/CF Dataset/Project Plots/'+'GMF_MSE_Loss.png')\n",
        "\n"
      ],
      "execution_count": null,
      "outputs": []
    },
    {
      "cell_type": "code",
      "metadata": {
        "id": "eSH5t_TsxWJQ"
      },
      "source": [
        "gmf_model = GMF(n_drugs, n_dis)\n",
        "train_epocs_gmf(gmf_model, epochs=100, lr=0.01, wd=1e-6, unsqueeze=True)"
      ],
      "execution_count": null,
      "outputs": []
    },
    {
      "cell_type": "code",
      "metadata": {
        "id": "SGSztq1CJqU8"
      },
      "source": [
        "#Multi Layer Perceptron Model\n",
        "class MLP(torch.nn.Module):\n",
        "    def __init__(self, n_drugs,n_dis,latent_dim=32,layers=[64,32,16,8]):\n",
        "        super(MLP, self).__init__()\n",
        "        self.feature_size = train_dis_features.shape[1]\n",
        "        self.embedding_drug = torch.nn.Linear(self.feature_size, latent_dim)\n",
        "        self.embedding_dis = torch.nn.Linear(self.feature_size, latent_dim)\n",
        "        self.drug_bias = nn.Embedding(n_drugs, 1)\n",
        "        self.dis_bias = nn.Embedding(n_dis, 1)\n",
        "        self.embedding_drug.weight.data.uniform_(0,0.05)\n",
        "        self.embedding_dis.weight.data.uniform_(0,0.05)\n",
        "        self.drug_bias.weight.data.uniform_(-0.01,0.01)\n",
        "        self.dis_bias.weight.data.uniform_(-0.01,0.01)\n",
        "\n",
        "        self.fc_layers = torch.nn.ModuleList()\n",
        "        for idx, (in_size, out_size) in enumerate(zip(layers[:-1], layers[1:])):\n",
        "            self.fc_layers.append(torch.nn.Linear(in_size, out_size))\n",
        "        self.affine_output = torch.nn.Linear(in_features=layers[-1], out_features=1)\n",
        "        self.logistic = torch.nn.Sigmoid()\n",
        "        # self.logistic = torch.nn.Softmax(dim=1)\n",
        "\n",
        "\n",
        "    def forward(self, drug_features, dis_features):\n",
        "        drug_embedding = self.embedding_drug(drug_features)\n",
        "        dis_embedding = self.embedding_dis(dis_features)\n",
        "        drug_embedding = F.dropout(drug_embedding, 0.1)\n",
        "        dis_embedding = F.dropout(dis_embedding, 0.1)\n",
        "        dis_bias_mlp = self.dis_bias(torch.LongTensor(train_dis))\n",
        "        drug_bias_mlp = self.drug_bias(torch.LongTensor(train_drug))\n",
        "        vector = torch.cat([drug_embedding, dis_embedding + dis_bias_mlp +  drug_bias_mlp], dim=-1)\n",
        "        for idx, _ in enumerate(range(len(self.fc_layers))):\n",
        "            vector = self.fc_layers[idx](vector)\n",
        "            vector = torch.nn.ReLU()(vector)\n",
        "            vector = F.dropout(vector, 0.1)\n",
        "\n",
        "        logits = self.affine_output(vector)\n",
        "        rating = self.logistic(logits)\n",
        "        return rating\n",
        "\n",
        "\n",
        "\n",
        "\n",
        "# define the train function\n",
        "def train_epocs_mlp(model, epochs=10, lr=0.01, wd=0.0, unsqueeze=False):\n",
        "    loss_arr=[]\n",
        "    optimizer = torch.optim.Adam(model.parameters(), lr=lr, weight_decay=wd)\n",
        "    model.train()\n",
        "    for i in range(epochs):\n",
        "        # users = torch.LongTensor(train[:,0])#.cuda()\n",
        "        # items = torch.LongTensor(train[:,1])#.cuda()\n",
        "        users = torch.Tensor(train_drug_features)\n",
        "        items = torch.Tensor(train_dis_features)\n",
        "        # print(users.size(), items.size())\n",
        "        ratings = torch.FloatTensor(train.iloc[:,2].values)#.cuda()\n",
        "        if unsqueeze:\n",
        "            ratings = ratings.unsqueeze(1)\n",
        "        y_hat = model(users, items)\n",
        "        loss = F.mse_loss(y_hat, ratings)\n",
        "        optimizer.zero_grad()\n",
        "        loss.backward()\n",
        "        optimizer.step()\n",
        "        print(loss.item()) \n",
        "        loss_arr.append(loss.item())\n",
        "    # test_loss(model, unsqueeze)\n",
        "    print('save')\n",
        "    # save the model\n",
        "    torch.save(model.state_dict(), 'mlp_model.pt')\n",
        "    plt.plot(loss_arr)\n",
        "    plt.xlabel('epochs')\n",
        "    plt.ylabel('MSE loss')\n",
        "    plt.title('MLP')\n",
        "    plt.savefig('/content/drive/MyDrive/CF Dataset/Project Plots/'+'MLP_MSE_Loss.png')\n"
      ],
      "execution_count": null,
      "outputs": []
    },
    {
      "cell_type": "code",
      "metadata": {
        "id": "kTjBxW08-N_m"
      },
      "source": [
        "# build the mlp model\n",
        "mlp_model = MLP(n_drugs, n_dis)#.cuda()\n",
        "\n",
        "\n",
        "\n",
        "# train the model\n",
        "#train_epocs_mlp(mlp_model, epochs=1000, lr=0.001, wd=1e-6, unsqueeze=True) #if use cuda the epochs could use 1000\n",
        "train_epocs_mlp(mlp_model, epochs=100, lr=0.01, wd=1e-6, unsqueeze=True)"
      ],
      "execution_count": null,
      "outputs": []
    },
    {
      "cell_type": "code",
      "metadata": {
        "id": "59y44qoqkAhe"
      },
      "source": [
        "#Final Neural Matrix Factorization Model\n",
        "class NeuMF(torch.nn.Module):\n",
        "    def __init__(self, n_drugs, n_dis, latent_dim_mf=100, latent_dim_mlp=32, layers=[64,32,16,8]):\n",
        "        super(NeuMF, self).__init__()\n",
        "\n",
        "        # Part of GMF\n",
        "        self.embedding_drug_mf = torch.nn.Embedding(num_embeddings=n_drugs, embedding_dim=latent_dim_mf)\n",
        "        self.embedding_dis_mf = torch.nn.Embedding(num_embeddings=n_dis, embedding_dim=latent_dim_mf)\n",
        "        self.embedding_drug_mf_bias = nn.Embedding(n_drugs, 1)\n",
        "        self.embedding_dis_mf_bias = nn.Embedding(n_dis, 1)\n",
        "        self.embedding_drug_mf_bias.weight.data.uniform_(-0.01,0.01)\n",
        "        self.embedding_dis_mf_bias.weight.data.uniform_(-0.01,0.01)\n",
        "\n",
        "        # Part of MLP\n",
        "        self.feature_size = train_dis_features.shape[1]\n",
        "        self.embedding_drug_mlp = torch.nn.Linear(self.feature_size, latent_dim_mlp)\n",
        "        self.embedding_dis_mlp = torch.nn.Linear(self.feature_size, latent_dim_mlp)\n",
        "        self.embedding_drug_mlp_bias = nn.Embedding(n_drugs, 1)\n",
        "        self.embedding_dis_mlp_bias = nn.Embedding(n_dis, 1)\n",
        "        self.embedding_drug_mlp_bias.weight.data.uniform_(-0.01,0.01)\n",
        "        self.embedding_dis_mlp_bias.weight.data.uniform_(-0.01,0.01)\n",
        "        self.fc_layers = torch.nn.ModuleList()\n",
        "        for idx, (in_size, out_size) in enumerate(zip(layers[:-1], layers[1:])):\n",
        "            self.fc_layers.append(torch.nn.Linear(in_size, out_size))\n",
        "\n",
        "        self.affine_output = torch.nn.Linear(in_features=layers[-1] + latent_dim_mf, out_features=1)\n",
        "        self.logistic = torch.nn.Sigmoid()\n",
        "        # self.logistic = torch.nn.Softmax(dim=1)\n",
        "\n",
        "    def forward(self, user_indices, item_indices, drug_features, dis_features):\n",
        "\n",
        "        # Part of GMF\n",
        "        drug_embedding_mf = self.embedding_drug_mf(user_indices)\n",
        "        dis_embedding_mf = self.embedding_dis_mf(item_indices)\n",
        "        drug_embedding_mf = F.dropout(drug_embedding_mf, 0.1)\n",
        "        dis_embedding_mf = F.dropout(dis_embedding_mf, 0.1)\n",
        "        dis_bias_mf = self.embedding_dis_mf_bias(item_indices)\n",
        "        drug_bias_mf = self.embedding_drug_mf_bias(user_indices)\n",
        "        mf_vector =torch.mul(drug_embedding_mf, dis_embedding_mf)\n",
        "        mf_vector = mf_vector + dis_bias_mf+drug_bias_mf\n",
        "        \n",
        "        # Part of MLP\n",
        "        drug_embedding_mlp = self.embedding_drug_mlp(drug_features)\n",
        "        dis_embedding_mlp = self.embedding_dis_mlp(dis_features)\n",
        "        drug_embedding_mlp = F.dropout(drug_embedding_mlp, 0.1)\n",
        "        dis_embedding_mlp = F.dropout(dis_embedding_mlp, 0.1)\n",
        "        dis_bias_mlp = self.embedding_dis_mlp_bias(item_indices)\n",
        "        drug_bias_mlp = self.embedding_drug_mlp_bias(user_indices)\n",
        "        mlp_vector = torch.cat([drug_embedding_mlp, dis_embedding_mlp + dis_bias_mlp +  drug_bias_mlp], dim=-1)\n",
        "        for idx, _ in enumerate(range(len(self.fc_layers))):\n",
        "            mlp_vector = self.fc_layers[idx](mlp_vector)\n",
        "            mlp_vector = torch.nn.ReLU()(mlp_vector)\n",
        "            mlp_vector = F.dropout(mlp_vector, 0.1)\n",
        "\n",
        "        # Fusion of GMF and MLP\n",
        "        vector = torch.cat([F.dropout(mlp_vector,0.1), F.dropout(mf_vector,0.1)], dim=-1)\n",
        "        logits = self.affine_output(vector)\n",
        "        rating = self.logistic(logits)\n",
        "        return rating\n",
        "\n",
        "    # load the wieght from GMF model and MLP model\n",
        "    def load_pretrain_weights(self):\n",
        "        \n",
        "        # Part of GMF\n",
        "        gmf_model = GMF(n_drugs,n_dis,latent_dim=100)#.cuda()\n",
        "        gmf_model.load_state_dict(torch.load('gmf_model.pt'))\n",
        "        self.embedding_drug_mf.weight.data = gmf_model.embedding_drug.weight.data\n",
        "        self.embedding_dis_mf.weight.data = gmf_model.embedding_dis.weight.data\n",
        "\n",
        "        # Part of MLP\n",
        "        mlp_model = MLP(n_drugs,n_dis,latent_dim=32,layers=[64,32,16,8])#.cuda()\n",
        "        mlp_model.load_state_dict(torch.load('mlp_model.pt'))\n",
        "        self.embedding_drug_mlp.weight.data = mlp_model.embedding_drug.weight.data\n",
        "        self.embedding_dis_mlp.weight.data = mlp_model.embedding_dis.weight.data        \n",
        "        for idx in range(len(self.fc_layers)):\n",
        "            self.fc_layers[idx].weight.data = mlp_model.fc_layers[idx].weight.data\n",
        "        \n",
        "        # Concatenate weights of the two models.\n",
        "        self.affine_output.weight.data = 0.5 * torch.cat([mlp_model.affine_output.weight.data, gmf_model.affine_output.weight.data], dim=-1)\n",
        "        self.affine_output.bias.data = 0.5 * (mlp_model.affine_output.bias.data + gmf_model.affine_output.bias.data)\n",
        "\n",
        "def test_loss(model, val_drug, val_dis, val_drug_features, val_dis_features, true_label):\n",
        "    model.eval()\n",
        "    ratings = torch.FloatTensor(true_label)#.cuda()\n",
        "    test_users = torch.LongTensor(val_drug)#.cuda()\n",
        "    test_items = torch.LongTensor(val_dis)#.cuda()\n",
        "    test_drug_features = torch.Tensor(val_drug_features)\n",
        "    test_dis_features = torch.Tensor(val_dis_features)\n",
        "    y_hat = model(test_users, test_items, test_drug_features, test_dis_features)\n",
        "    # print(y_hat)\n",
        "    return roc_auc_score(true_label, np.round(y_hat.detach().numpy())),accuracy_score(true_label, np.round(y_hat.detach().numpy())), precision_score(true_label, np.round(y_hat.detach().numpy())) , recall_score(true_label, np.round(y_hat.detach().numpy())) ,f1_score(true_label, np.round(y_hat.detach().numpy())) \n",
        "    # loss = F.mse_loss(torch.round(y_hat), ratings)\n",
        "    # print(\"test loss %.3f \" % loss.item())\n",
        "\n",
        "# define the train function\n",
        "def train_epocs_NeuMF(model, epochs=10, lr=0.01, wd=0.0, unsqueeze=False):\n",
        "    optimizer = torch.optim.Adam(model.parameters(), lr=lr, weight_decay=wd)\n",
        "    avg_auc = 0.0\n",
        "    avg_acc = 0.0\n",
        "    avg_prec = 0.0\n",
        "    avg_recall = 0.0\n",
        "    avg_f1 = 0.0\n",
        "    print('test_auc, test_acc, test_prec, test_recall, test_f1')\n",
        "    for train_ind, test_ind in kf.split(final_data):\n",
        "        train_drug, train_dis, train_drug_features, train_dis_features = get_data(final_data.iloc[train_ind,:])\n",
        "        val_drug, val_dis, val_drug_features, val_dis_features = get_data(final_data.iloc[test_ind,:])\n",
        "        model = NeuMF(n_drugs, n_dis,layers=[64,32,16,8])#.cuda()\n",
        "        model.load_pretrain_weights()\n",
        "        model.train()\n",
        "        loss_arr=[]\n",
        "        for i in range(epochs):\n",
        "            users = torch.LongTensor(train_drug)\n",
        "            items = torch.LongTensor(train_dis)\n",
        "            drugs = torch.Tensor(train_drug_features)\n",
        "            dis = torch.Tensor(train_dis_features)\n",
        "            ratings = torch.FloatTensor(final_data.iloc[train_ind,:].iloc[:,2].values)#.cuda()\n",
        "            if unsqueeze:\n",
        "                ratings = ratings.unsqueeze(1)\n",
        "            y_hat = model(users, items, drugs,dis)\n",
        "            loss = F.mse_loss(y_hat, ratings)\n",
        "            optimizer.zero_grad()\n",
        "            loss.backward()\n",
        "            optimizer.step()\n",
        "            # print(loss.item()) \n",
        "            loss_arr.append(loss.item())\n",
        "        true_label = final_data.iloc[test_ind,:].iloc[:,2].values\n",
        "        test_auc, test_acc, test_prec, test_recall, test_f1 = test_loss(model, val_drug, val_dis, val_drug_features, val_dis_features, true_label)\n",
        "        avg_auc += test_auc\n",
        "        avg_acc += test_acc\n",
        "        avg_prec += test_prec\n",
        "        avg_recall += test_recall\n",
        "        avg_f1 += test_f1\n",
        "        print(test_auc, test_acc, test_prec, test_recall, test_f1)\n",
        "    print('Average')\n",
        "    print(avg_auc/10,avg_acc/10,avg_prec/10,avg_recall/10,avg_f1/10)\n",
        "    print('save')\n",
        "    torch.save(NeuMF_model.state_dict(), 'NeuMF_model.pt')\n",
        "    plt.plot(loss_arr)\n",
        "    plt.xlabel('epochs')\n",
        "    plt.ylabel('MSE loss')\n",
        "    plt.title('NeuMF')\n",
        "    plt.savefig('/content/drive/MyDrive/CF Dataset/Project Plots/'+'NeuMF_MSE_Loss.png')\n",
        "\n",
        "\n",
        "\n",
        "# build the NeuMF model\n"
      ],
      "execution_count": null,
      "outputs": []
    },
    {
      "cell_type": "code",
      "metadata": {
        "id": "13FzGsXH-Kqc"
      },
      "source": [
        "NeuMF_model = NeuMF(n_drugs, n_dis,layers=[64,32,16,8])#.cuda()\n",
        "\n",
        "\n",
        "# load the pre-training models of GMF and MLP\n",
        "NeuMF_model.load_pretrain_weights()\n",
        "\n",
        "\n",
        "# train the model\n",
        "#train_epocs_NeuMF(NeuMF_model, epochs=1500, lr=0.0001, wd=1e-6, unsqueeze=True) #if use cuda, the epochs could use 1500\n",
        "train_epocs_NeuMF(NeuMF_model, epochs=100, lr=0.01, wd=1e-6, unsqueeze=True)"
      ],
      "execution_count": null,
      "outputs": []
    },
    {
      "cell_type": "markdown",
      "metadata": {
        "id": "4tG3SF9eKaod"
      },
      "source": [
        "**Final Result Compilation**"
      ]
    },
    {
      "cell_type": "code",
      "metadata": {
        "id": "r8BkRsRJkdos",
        "colab": {
          "base_uri": "https://localhost:8080/"
        },
        "outputId": "9c7e5b32-9528-4592-ef30-1ea02fbca7c8"
      },
      "source": [
        "NeuMF_model.eval()\n",
        "with torch.no_grad():\n",
        "    val_drug, val_dis, val_drug_features, val_dis_features = get_data(test)\n",
        "    test_users = torch.LongTensor(val_drug)#.cuda()\n",
        "    test_items = torch.LongTensor(val_dis)#.cuda()\n",
        "    test_drug_features = torch.Tensor(val_drug_features)\n",
        "    test_dis_features = torch.Tensor(val_dis_features)\n",
        "    users = torch.LongTensor(train_drug)\n",
        "    items = torch.LongTensor(train_dis)\n",
        "    drugs = torch.Tensor(train_drug_features)\n",
        "    dis = torch.Tensor(train_dis_features)\n",
        "    y_hat_NeuMF = NeuMF_model(test_users, test_items, test_drug_features, test_dis_features)\n",
        "    y_hat_NeuMF_train = NeuMF_model(users, items, drugs, dis)\n",
        "    print(y_hat_NeuMF)\n",
        "    print(y_hat_NeuMF_train)\n",
        "    "
      ],
      "execution_count": null,
      "outputs": [
        {
          "output_type": "stream",
          "text": [
            "tensor([[2.3969e-02],\n",
            "        [8.6790e-01],\n",
            "        [9.9029e-01],\n",
            "        [5.3945e-01],\n",
            "        [9.3414e-01],\n",
            "        [3.9465e-01],\n",
            "        [8.7194e-03],\n",
            "        [1.0000e+00],\n",
            "        [4.0979e-01],\n",
            "        [9.1678e-01],\n",
            "        [1.3464e-02],\n",
            "        [1.0000e+00],\n",
            "        [9.9364e-01],\n",
            "        [9.9939e-01],\n",
            "        [3.0264e-03],\n",
            "        [7.0647e-01],\n",
            "        [9.3530e-01],\n",
            "        [9.9463e-01],\n",
            "        [6.5437e-01],\n",
            "        [1.8491e-04],\n",
            "        [3.9194e-02],\n",
            "        [5.4150e-02],\n",
            "        [9.8275e-01],\n",
            "        [3.6788e-01],\n",
            "        [9.8269e-01],\n",
            "        [1.7430e-01],\n",
            "        [1.0000e+00],\n",
            "        [9.5126e-01],\n",
            "        [1.3658e-01],\n",
            "        [8.4782e-01],\n",
            "        [4.4912e-01],\n",
            "        [9.2701e-01],\n",
            "        [9.8268e-01],\n",
            "        [9.4510e-01],\n",
            "        [3.6514e-01],\n",
            "        [6.9400e-03],\n",
            "        [8.9498e-02],\n",
            "        [1.5430e-03],\n",
            "        [9.3101e-01],\n",
            "        [1.0000e+00],\n",
            "        [1.0000e+00],\n",
            "        [1.0000e+00],\n",
            "        [9.9542e-01],\n",
            "        [8.0551e-01],\n",
            "        [1.5271e-01],\n",
            "        [4.6229e-02],\n",
            "        [9.9447e-01],\n",
            "        [1.0000e+00],\n",
            "        [1.0000e+00],\n",
            "        [4.5185e-01],\n",
            "        [2.0667e-01],\n",
            "        [2.7119e-04],\n",
            "        [8.7008e-01],\n",
            "        [6.6524e-03],\n",
            "        [7.7734e-01],\n",
            "        [1.0000e+00],\n",
            "        [9.5702e-01],\n",
            "        [6.4271e-02],\n",
            "        [9.9094e-01],\n",
            "        [3.8240e-01],\n",
            "        [2.0051e-01],\n",
            "        [6.0727e-02],\n",
            "        [9.9766e-01],\n",
            "        [4.6643e-01],\n",
            "        [9.9839e-01],\n",
            "        [3.1995e-02],\n",
            "        [8.4950e-01],\n",
            "        [8.3389e-01],\n",
            "        [3.5916e-02],\n",
            "        [1.0000e+00],\n",
            "        [4.9997e-01],\n",
            "        [9.9052e-01],\n",
            "        [8.9012e-02],\n",
            "        [9.2355e-01],\n",
            "        [1.0000e+00],\n",
            "        [1.2572e-03],\n",
            "        [9.9179e-01],\n",
            "        [9.9463e-01],\n",
            "        [8.4120e-01],\n",
            "        [1.0000e+00],\n",
            "        [1.0000e+00],\n",
            "        [1.3350e-01],\n",
            "        [9.2846e-01],\n",
            "        [2.3126e-02],\n",
            "        [5.3375e-01],\n",
            "        [9.4846e-01],\n",
            "        [1.0000e+00],\n",
            "        [2.0014e-01],\n",
            "        [9.9446e-01],\n",
            "        [9.3641e-01],\n",
            "        [1.0000e+00],\n",
            "        [2.2349e-01],\n",
            "        [1.0058e-02],\n",
            "        [4.5545e-01],\n",
            "        [8.5611e-01],\n",
            "        [9.0995e-01],\n",
            "        [9.0908e-01],\n",
            "        [8.0637e-02],\n",
            "        [9.6426e-01],\n",
            "        [2.6995e-02],\n",
            "        [8.4181e-02],\n",
            "        [9.7687e-01],\n",
            "        [1.5882e-01],\n",
            "        [8.4742e-03],\n",
            "        [9.5508e-02],\n",
            "        [9.5077e-01],\n",
            "        [9.9985e-01],\n",
            "        [2.1651e-01],\n",
            "        [1.7283e-01],\n",
            "        [6.3851e-01],\n",
            "        [1.1074e-02],\n",
            "        [1.2289e-01],\n",
            "        [1.1087e-03],\n",
            "        [2.7904e-03],\n",
            "        [8.7490e-01],\n",
            "        [3.8650e-01],\n",
            "        [1.0627e-02],\n",
            "        [9.7696e-01],\n",
            "        [3.1004e-02],\n",
            "        [9.4863e-01],\n",
            "        [9.9571e-01],\n",
            "        [6.0240e-01],\n",
            "        [5.0728e-03],\n",
            "        [1.0000e+00],\n",
            "        [2.1048e-03],\n",
            "        [7.4185e-01],\n",
            "        [6.4849e-02],\n",
            "        [9.9993e-01],\n",
            "        [9.8607e-01],\n",
            "        [8.3064e-01],\n",
            "        [4.7790e-01],\n",
            "        [6.5442e-01],\n",
            "        [8.1634e-01],\n",
            "        [7.9166e-01],\n",
            "        [9.4094e-01],\n",
            "        [9.7921e-01],\n",
            "        [4.4598e-01],\n",
            "        [3.9217e-03],\n",
            "        [6.7927e-01],\n",
            "        [5.1101e-02],\n",
            "        [9.9489e-01],\n",
            "        [7.9935e-01],\n",
            "        [9.1550e-01],\n",
            "        [1.0000e+00],\n",
            "        [2.6676e-02],\n",
            "        [9.5313e-01],\n",
            "        [4.9785e-02],\n",
            "        [1.0000e+00],\n",
            "        [5.8849e-01],\n",
            "        [1.9847e-01],\n",
            "        [4.2053e-01],\n",
            "        [9.0082e-01],\n",
            "        [1.4774e-01],\n",
            "        [5.4595e-01],\n",
            "        [6.6608e-01],\n",
            "        [7.2860e-02],\n",
            "        [3.4795e-02],\n",
            "        [7.6256e-01],\n",
            "        [1.2392e-01],\n",
            "        [1.2734e-01],\n",
            "        [1.2609e-01],\n",
            "        [8.7429e-01],\n",
            "        [1.3931e-02],\n",
            "        [9.7646e-01],\n",
            "        [1.1698e-02],\n",
            "        [9.9677e-01],\n",
            "        [1.9213e-03],\n",
            "        [8.9061e-01],\n",
            "        [5.3329e-02],\n",
            "        [9.1111e-01],\n",
            "        [8.1004e-01],\n",
            "        [6.0877e-01],\n",
            "        [1.2604e-03],\n",
            "        [8.8814e-01],\n",
            "        [9.6508e-01],\n",
            "        [9.9972e-01],\n",
            "        [9.0838e-01],\n",
            "        [3.8686e-02],\n",
            "        [2.9927e-01],\n",
            "        [7.9901e-01],\n",
            "        [1.8996e-03],\n",
            "        [9.6854e-01],\n",
            "        [7.0159e-02],\n",
            "        [1.0000e+00],\n",
            "        [9.8561e-01],\n",
            "        [3.4328e-02],\n",
            "        [6.2111e-04],\n",
            "        [9.2965e-01],\n",
            "        [6.1864e-02],\n",
            "        [1.2846e-01],\n",
            "        [9.6584e-01],\n",
            "        [1.0000e+00],\n",
            "        [5.2990e-02],\n",
            "        [7.8060e-01],\n",
            "        [9.7805e-01],\n",
            "        [9.8510e-01],\n",
            "        [2.1365e-01],\n",
            "        [9.0235e-01],\n",
            "        [7.3562e-01],\n",
            "        [1.4764e-02],\n",
            "        [2.9522e-01],\n",
            "        [5.7643e-01],\n",
            "        [7.6308e-04],\n",
            "        [8.6727e-03],\n",
            "        [5.3756e-01],\n",
            "        [8.6797e-03],\n",
            "        [1.4009e-03],\n",
            "        [9.1359e-03],\n",
            "        [9.4242e-01],\n",
            "        [2.6141e-01],\n",
            "        [9.5223e-01],\n",
            "        [2.7493e-01],\n",
            "        [5.6944e-01],\n",
            "        [1.5823e-03],\n",
            "        [1.2779e-01],\n",
            "        [3.1907e-01],\n",
            "        [7.6631e-01],\n",
            "        [6.1119e-01],\n",
            "        [2.6401e-02],\n",
            "        [9.9550e-01],\n",
            "        [8.7004e-01],\n",
            "        [1.1843e-01],\n",
            "        [1.2779e-01],\n",
            "        [1.2356e-01],\n",
            "        [9.0122e-01],\n",
            "        [1.0960e-01],\n",
            "        [7.0904e-01],\n",
            "        [9.5058e-01],\n",
            "        [5.7882e-01],\n",
            "        [9.9995e-01],\n",
            "        [9.6086e-01],\n",
            "        [9.8882e-01],\n",
            "        [1.2602e-01],\n",
            "        [2.0857e-01],\n",
            "        [8.5703e-01],\n",
            "        [9.5790e-01],\n",
            "        [5.6381e-02],\n",
            "        [2.6906e-02],\n",
            "        [8.7580e-01],\n",
            "        [8.0138e-01],\n",
            "        [5.2360e-01],\n",
            "        [2.7545e-01],\n",
            "        [9.9947e-01],\n",
            "        [1.2458e-01],\n",
            "        [5.3375e-01],\n",
            "        [9.9998e-01],\n",
            "        [2.1479e-02],\n",
            "        [9.9393e-01],\n",
            "        [8.8521e-01],\n",
            "        [1.0000e+00],\n",
            "        [8.7347e-01],\n",
            "        [9.7005e-01],\n",
            "        [9.9990e-01],\n",
            "        [1.0000e+00],\n",
            "        [9.3979e-01],\n",
            "        [9.2576e-01],\n",
            "        [1.0000e+00],\n",
            "        [4.4699e-02],\n",
            "        [7.5250e-01],\n",
            "        [9.6298e-01],\n",
            "        [1.7726e-02],\n",
            "        [4.0961e-02],\n",
            "        [2.2139e-02],\n",
            "        [9.1847e-01],\n",
            "        [9.7420e-01],\n",
            "        [1.1033e-01],\n",
            "        [8.0138e-01],\n",
            "        [9.5058e-01],\n",
            "        [6.0531e-02],\n",
            "        [6.9046e-01],\n",
            "        [5.8173e-03],\n",
            "        [7.6812e-01],\n",
            "        [8.8319e-01],\n",
            "        [1.0000e+00],\n",
            "        [9.3636e-01],\n",
            "        [1.4014e-02],\n",
            "        [9.9525e-01],\n",
            "        [1.7688e-02],\n",
            "        [4.8098e-01],\n",
            "        [9.7302e-01],\n",
            "        [9.8281e-01],\n",
            "        [1.0000e+00],\n",
            "        [5.7975e-01],\n",
            "        [9.5885e-04],\n",
            "        [6.7494e-01],\n",
            "        [9.1620e-01],\n",
            "        [7.2767e-01],\n",
            "        [9.8048e-01],\n",
            "        [9.7801e-01],\n",
            "        [8.8120e-03],\n",
            "        [9.9611e-01],\n",
            "        [2.5706e-01],\n",
            "        [2.2001e-02],\n",
            "        [1.5048e-01],\n",
            "        [8.3750e-01],\n",
            "        [9.9862e-01],\n",
            "        [7.0825e-01],\n",
            "        [1.4139e-01],\n",
            "        [2.1024e-02],\n",
            "        [6.1263e-02],\n",
            "        [9.9786e-01],\n",
            "        [4.1413e-02],\n",
            "        [9.5572e-01],\n",
            "        [3.6232e-03],\n",
            "        [1.0000e+00],\n",
            "        [2.4567e-02],\n",
            "        [3.6886e-02],\n",
            "        [4.7051e-04],\n",
            "        [9.9541e-01],\n",
            "        [2.4370e-02],\n",
            "        [1.0892e-02],\n",
            "        [3.3412e-02],\n",
            "        [9.8371e-01],\n",
            "        [7.8483e-01],\n",
            "        [3.8094e-02],\n",
            "        [1.0000e+00],\n",
            "        [1.0000e+00],\n",
            "        [7.2371e-02],\n",
            "        [9.8670e-01],\n",
            "        [8.9101e-01],\n",
            "        [9.6412e-01],\n",
            "        [8.2542e-01],\n",
            "        [6.8236e-02],\n",
            "        [9.1161e-01],\n",
            "        [8.9014e-01],\n",
            "        [3.7826e-02],\n",
            "        [6.6847e-01],\n",
            "        [9.5788e-01],\n",
            "        [2.3062e-02],\n",
            "        [3.3163e-02],\n",
            "        [5.9475e-01],\n",
            "        [9.9068e-01],\n",
            "        [9.7616e-01],\n",
            "        [3.7247e-02],\n",
            "        [1.0000e+00],\n",
            "        [4.4832e-01],\n",
            "        [9.9718e-01],\n",
            "        [9.5696e-01],\n",
            "        [9.9301e-01],\n",
            "        [1.9098e-01],\n",
            "        [9.9929e-01],\n",
            "        [8.0068e-02],\n",
            "        [2.6765e-02],\n",
            "        [7.6195e-01],\n",
            "        [5.2143e-03],\n",
            "        [9.9912e-01],\n",
            "        [6.5042e-01],\n",
            "        [1.3826e-01],\n",
            "        [1.0000e+00],\n",
            "        [6.8854e-01],\n",
            "        [3.8643e-01],\n",
            "        [6.9604e-02],\n",
            "        [2.9489e-01],\n",
            "        [9.6255e-01],\n",
            "        [9.9919e-01],\n",
            "        [9.5880e-01],\n",
            "        [3.2884e-03],\n",
            "        [8.0122e-01],\n",
            "        [9.9999e-01],\n",
            "        [7.8498e-01],\n",
            "        [7.7736e-01],\n",
            "        [7.5789e-01],\n",
            "        [9.8674e-01],\n",
            "        [4.3053e-02],\n",
            "        [4.7259e-01],\n",
            "        [8.2548e-01],\n",
            "        [9.9246e-01],\n",
            "        [1.0000e+00],\n",
            "        [6.2208e-01],\n",
            "        [8.0786e-02],\n",
            "        [9.9995e-01],\n",
            "        [9.9906e-01],\n",
            "        [9.0612e-01],\n",
            "        [3.7726e-02],\n",
            "        [9.9056e-02],\n",
            "        [1.0000e+00],\n",
            "        [1.4327e-02],\n",
            "        [9.9999e-01],\n",
            "        [2.0234e-02],\n",
            "        [9.9717e-01],\n",
            "        [8.8244e-01],\n",
            "        [8.2316e-01],\n",
            "        [3.9524e-01],\n",
            "        [2.4417e-03],\n",
            "        [9.2522e-01],\n",
            "        [1.1157e-02],\n",
            "        [1.3991e-01],\n",
            "        [9.9589e-01],\n",
            "        [9.8227e-01],\n",
            "        [9.9998e-01],\n",
            "        [9.9639e-01],\n",
            "        [7.6002e-01],\n",
            "        [5.5201e-01],\n",
            "        [9.9910e-01],\n",
            "        [9.9994e-01],\n",
            "        [7.0286e-02],\n",
            "        [1.0000e+00],\n",
            "        [9.9371e-01],\n",
            "        [9.2955e-01],\n",
            "        [9.9999e-01],\n",
            "        [2.5345e-01],\n",
            "        [1.0111e-03],\n",
            "        [5.4369e-03],\n",
            "        [1.7985e-01],\n",
            "        [8.9925e-01],\n",
            "        [7.7007e-01],\n",
            "        [2.9522e-01],\n",
            "        [8.0682e-03],\n",
            "        [8.8363e-01],\n",
            "        [1.0000e+00],\n",
            "        [7.5593e-01],\n",
            "        [9.9913e-01],\n",
            "        [5.9502e-01],\n",
            "        [1.7723e-02],\n",
            "        [9.8712e-03],\n",
            "        [4.0611e-01],\n",
            "        [1.0000e+00],\n",
            "        [1.2986e-01],\n",
            "        [2.5842e-01],\n",
            "        [1.0000e+00],\n",
            "        [5.8283e-03],\n",
            "        [9.8214e-01],\n",
            "        [9.9602e-01],\n",
            "        [6.9536e-01],\n",
            "        [2.3238e-02],\n",
            "        [2.1496e-01],\n",
            "        [7.7055e-01],\n",
            "        [9.9531e-01],\n",
            "        [8.2714e-02],\n",
            "        [8.1670e-01],\n",
            "        [1.9835e-01],\n",
            "        [1.0000e+00],\n",
            "        [1.9332e-01],\n",
            "        [9.3864e-01],\n",
            "        [1.0000e+00],\n",
            "        [9.8285e-01],\n",
            "        [3.3517e-02],\n",
            "        [9.9272e-01],\n",
            "        [9.0581e-01],\n",
            "        [3.0533e-01],\n",
            "        [2.0495e-01],\n",
            "        [7.3760e-01],\n",
            "        [7.9196e-01],\n",
            "        [6.7699e-01],\n",
            "        [1.5623e-01],\n",
            "        [1.0000e+00],\n",
            "        [1.0000e+00],\n",
            "        [9.8382e-01],\n",
            "        [9.0430e-02],\n",
            "        [2.0635e-01],\n",
            "        [8.3272e-01],\n",
            "        [9.5450e-01],\n",
            "        [2.9755e-03],\n",
            "        [3.1398e-01],\n",
            "        [9.4478e-01],\n",
            "        [1.0000e+00],\n",
            "        [5.4424e-01],\n",
            "        [1.4606e-01],\n",
            "        [5.2845e-02],\n",
            "        [3.7703e-02],\n",
            "        [1.7803e-02],\n",
            "        [5.5799e-02],\n",
            "        [2.8660e-01],\n",
            "        [5.1007e-01],\n",
            "        [9.9859e-01],\n",
            "        [2.8567e-02],\n",
            "        [5.0065e-03],\n",
            "        [1.0000e+00],\n",
            "        [9.9525e-01],\n",
            "        [7.3507e-01],\n",
            "        [6.6861e-01],\n",
            "        [8.7999e-01],\n",
            "        [8.5380e-01],\n",
            "        [8.0657e-01],\n",
            "        [9.9993e-01],\n",
            "        [9.5293e-01],\n",
            "        [3.4510e-01],\n",
            "        [2.1284e-01],\n",
            "        [9.6840e-01],\n",
            "        [9.9998e-01],\n",
            "        [4.0538e-02],\n",
            "        [7.9162e-01],\n",
            "        [7.6064e-01],\n",
            "        [9.7924e-01],\n",
            "        [2.8200e-01],\n",
            "        [1.8725e-02],\n",
            "        [1.9191e-03],\n",
            "        [8.9086e-01],\n",
            "        [2.4457e-01],\n",
            "        [9.5536e-01],\n",
            "        [9.9600e-01],\n",
            "        [7.4902e-01],\n",
            "        [9.1689e-01],\n",
            "        [9.5698e-01],\n",
            "        [7.5714e-01],\n",
            "        [7.8684e-02],\n",
            "        [1.0000e+00],\n",
            "        [8.8866e-01],\n",
            "        [1.0000e+00],\n",
            "        [1.5017e-01],\n",
            "        [9.6410e-01],\n",
            "        [4.5202e-02],\n",
            "        [8.2100e-01],\n",
            "        [9.9998e-01],\n",
            "        [9.3917e-01],\n",
            "        [5.6498e-01],\n",
            "        [8.8677e-02]])\n",
            "tensor([[0.0148],\n",
            "        [0.0172],\n",
            "        [0.4470],\n",
            "        ...,\n",
            "        [0.0924],\n",
            "        [0.0311],\n",
            "        [0.7820]])\n"
          ],
          "name": "stdout"
        }
      ]
    },
    {
      "cell_type": "code",
      "metadata": {
        "id": "isV3JbNPpEwH",
        "colab": {
          "base_uri": "https://localhost:8080/"
        },
        "outputId": "62213b01-5a5f-4fa3-a850-cceaf59b2f33"
      },
      "source": [
        "accuracy_score(np.round(y_hat_NeuMF.numpy()),test.iloc[:,2].values)"
      ],
      "execution_count": null,
      "outputs": [
        {
          "output_type": "execute_result",
          "data": {
            "text/plain": [
              "0.7988165680473372"
            ]
          },
          "metadata": {
            "tags": []
          },
          "execution_count": 64
        }
      ]
    },
    {
      "cell_type": "code",
      "metadata": {
        "id": "iu82j8dEJcIL"
      },
      "source": [
        "prec, recall, threshold = precision_recall_curve(val.iloc[:,2].values, y_hat_NeuMF.numpy())\n",
        "lr_f1, lr_auc = f1_score(val.iloc[:,2].values, np.round(y_hat_NeuMF.numpy())), auc(recall, prec)\n",
        "no_skill = len(val.iloc[:,2].values[val.iloc[:,2].values==1]) / len(val.iloc[:,2].values)\n",
        "plt.plot([0, 1], [no_skill, no_skill], linestyle='--', label='No Skill')\n",
        "plt.plot(recall, prec, marker='.', label='NeuMF')\n",
        "plt.xlabel('Recall')\n",
        "plt.ylabel('Precision')\n",
        "plt.title('Precision Recall Curve')\n",
        "plt.legend()\n",
        "plt.savefig('/content/drive/MyDrive/CF Dataset/Project Plots/'+'precision_recall_curve.png')\n",
        "print('F1 Score',lr_f1)\n",
        "print('AUC', lr_auc)"
      ],
      "execution_count": null,
      "outputs": []
    },
    {
      "cell_type": "code",
      "metadata": {
        "colab": {
          "base_uri": "https://localhost:8080/",
          "height": 311
        },
        "id": "nN4XjiztZoHx",
        "outputId": "87b55da4-bcbd-45bc-fcc9-6610c40e418f"
      },
      "source": [
        "fpr,tpr,_ = roc_curve(val.iloc[:,2].values, y_hat_NeuMF.numpy())\n",
        "ns_probs = [0 for _ in range(len(val.iloc[:,2].values))]\n",
        "ns_fpr, ns_tpr, _ = roc_curve(val.iloc[:,2].values, ns_probs)\n",
        "plt.plot(ns_fpr, ns_tpr, linestyle='--', label='No Skill')\n",
        "plt.plot(fpr, tpr, marker='.', label='NeuMF')\n",
        "lr_auc = roc_auc_score(val.iloc[:,2].values, y_hat_NeuMF.numpy())\n",
        "# axis labels\n",
        "plt.title('ROC Curve')\n",
        "plt.xlabel('False Positive Rate')\n",
        "plt.ylabel('True Positive Rate')\n",
        "plt.legend()\n",
        "plt.savefig('/content/drive/MyDrive/CF Dataset/Project Plots/'+'ROC_curve.png')\n",
        "print('ROC AUC Score',lr_auc)"
      ],
      "execution_count": null,
      "outputs": [
        {
          "output_type": "stream",
          "text": [
            "ROC AUC Score 0.8321815304091642\n"
          ],
          "name": "stdout"
        },
        {
          "output_type": "display_data",
          "data": {
            "image/png": "[encoded data removed]",
            "text/plain": [
              "<Figure size 432x288 with 1 Axes>"
            ]
          },
          "metadata": {
            "tags": [],
            "needs_background": "light"
          }
        }
      ]
    },
    {
      "cell_type": "code",
      "metadata": {
        "colab": {
          "base_uri": "https://localhost:8080/"
        },
        "id": "oVLaC5sqcrLy",
        "outputId": "90907dd7-a260-444a-e2b1-c69bc5a1945f"
      },
      "source": [
        "from sklearn.metrics import classification_report\n",
        "classification_report(test.iloc[:,2].values, np.round(y_hat_NeuMF.numpy()),output_dict=True)"
      ],
      "execution_count": null,
      "outputs": [
        {
          "output_type": "execute_result",
          "data": {
            "text/plain": [
              "{'0': {'f1-score': 0.7725321888412017,\n",
              "  'precision': 0.8530805687203792,\n",
              "  'recall': 0.7058823529411765,\n",
              "  'support': 255},\n",
              " '1': {'f1-score': 0.8065693430656934,\n",
              "  'precision': 0.7466216216216216,\n",
              "  'recall': 0.876984126984127,\n",
              "  'support': 252},\n",
              " 'accuracy': 0.7909270216962525,\n",
              " 'macro avg': {'f1-score': 0.7895507659534475,\n",
              "  'precision': 0.7998510951710004,\n",
              "  'recall': 0.7914332399626518,\n",
              "  'support': 507},\n",
              " 'weighted avg': {'f1-score': 0.7894500643137301,\n",
              "  'precision': 0.8001660624701092,\n",
              "  'recall': 0.7909270216962525,\n",
              "  'support': 507}}"
            ]
          },
          "metadata": {
            "tags": []
          },
          "execution_count": 54
        }
      ]
    },
    {
      "cell_type": "code",
      "metadata": {
        "id": "6HB-hvRfhah5"
      },
      "source": [
        ""
      ],
      "execution_count": null,
      "outputs": []
    },
    {
      "cell_type": "markdown",
      "metadata": {
        "id": "ypk2C8yvXZqI"
      },
      "source": [
        "**Test Data Results**"
      ]
    },
    {
      "cell_type": "code",
      "metadata": {
        "id": "zbFH2kpdXbO1"
      },
      "source": [
        "NeuMF_model.eval()\n",
        "with torch.no_grad():\n",
        "    test_users = torch.LongTensor(test_drug)#.cuda()\n",
        "    test_items = torch.LongTensor(test_dis)#.cuda()\n",
        "    test_drug_features = torch.Tensor(test_drug_features)\n",
        "    test_dis_features = torch.Tensor(test_dis_features)\n",
        "    users = torch.LongTensor(train_drug)\n",
        "    items = torch.LongTensor(train_dis)\n",
        "    drugs = torch.Tensor(train_drug_features)\n",
        "    dis = torch.Tensor(train_dis_features)\n",
        "    y_hat_NeuMF = NeuMF_model(test_users, test_items, test_drug_features, test_dis_features)\n",
        "    y_hat_NeuMF_train = NeuMF_model(users, items, drugs, dis)\n",
        "    print(y_hat_NeuMF)\n",
        "    print(y_hat_NeuMF_train)\n",
        "    # rating_NeuMF = [element.item() for element in y_hat_NeuMF.flatten()]\n",
        "    # df_NeuMF=pd.DataFrame({'user_id':val_drug,'item_id':val_dis,'rating':rating_NeuMF})\n",
        "    # # df_NeuMF_sort=df_NeuMF.sort_values(by=['user_id','rating'],ascending=[True,False])\n",
        "    # final_NeuMF=df_NeuMF_sort.groupby('user_id').head(10)\n",
        "    # final_NeuMF.to_csv('final_NeuMF.csv',index=False)\n",
        "    # final_NeuMF=final_NeuMF.drop(columns=['rating'])\n",
        "    "
      ],
      "execution_count": null,
      "outputs": []
    },
    {
      "cell_type": "code",
      "metadata": {
        "colab": {
          "base_uri": "https://localhost:8080/"
        },
        "id": "ICxokHtYXhED",
        "outputId": "c9c0a812-5f29-4568-9866-ee30f81ff537"
      },
      "source": [
        "from sklearn.metrics import accuracy_score\n",
        "# accuracy_score(np.round(y_hat_NeuMF.numpy()),test.iloc[:,2].values), accuracy_score(np.round(y_hat_NeuMF_train.numpy()),train.iloc[:,2].values)\n",
        "accuracy_score(np.round(y_hat_NeuMF.numpy()),test.iloc[:,2].values)"
      ],
      "execution_count": null,
      "outputs": [
        {
          "output_type": "execute_result",
          "data": {
            "text/plain": [
              "0.7988165680473372"
            ]
          },
          "metadata": {
            "tags": []
          },
          "execution_count": 66
        }
      ]
    },
    {
      "cell_type": "code",
      "metadata": {
        "colab": {
          "base_uri": "https://localhost:8080/",
          "height": 327
        },
        "id": "yp4Q1hWNXoTg",
        "outputId": "dd3c86a9-b9e9-487f-ad5f-dbe5cbe07355"
      },
      "source": [
        "prec, recall, threshold = precision_recall_curve(test.iloc[:,2].values, y_hat_NeuMF.numpy())\n",
        "lr_f1, lr_auc = f1_score(test.iloc[:,2].values, np.round(y_hat_NeuMF.numpy())), auc(recall, prec)\n",
        "no_skill = len(test.iloc[:,2].values[test.iloc[:,2].values==1]) / len(test.iloc[:,2].values)\n",
        "plt.plot([0, 1], [no_skill, no_skill], linestyle='--', label='No Skill')\n",
        "plt.plot(recall, prec, marker='.', label='NeuMF')\n",
        "prec, recall, threshold = precision_recall_curve(test.iloc[:,2].values, test_hnet)\n",
        "plt.plot(recall, prec, marker='.', label='HNet')\n",
        "plt.xlabel('Recall')\n",
        "plt.ylabel('Precision')\n",
        "plt.title('Precision Recall Curve')\n",
        "plt.legend()\n",
        "plt.savefig('/content/drive/MyDrive/CF Dataset/Project Plots/'+'precision_recall_curve_test.png')\n",
        "print('F1 Score',lr_f1)\n",
        "print('AUC', lr_auc)"
      ],
      "execution_count": null,
      "outputs": [
        {
          "output_type": "stream",
          "text": [
            "F1 Score 0.8145454545454546\n",
            "AUC 0.836896064893032\n"
          ],
          "name": "stdout"
        },
        {
          "output_type": "display_data",
          "data": {
            "image/png": "[encoded data removed]",
            "text/plain": [
              "<Figure size 432x288 with 1 Axes>"
            ]
          },
          "metadata": {
            "tags": [],
            "needs_background": "light"
          }
        }
      ]
    },
    {
      "cell_type": "code",
      "metadata": {
        "colab": {
          "base_uri": "https://localhost:8080/",
          "height": 311
        },
        "id": "Q544VZZCYCMn",
        "outputId": "c334137c-868b-41b6-be1d-c50cf9108495"
      },
      "source": [
        "fpr,tpr,_ = roc_curve(test.iloc[:,2].values, y_hat_NeuMF.numpy())\n",
        "ns_probs = [0 for _ in range(len(test.iloc[:,2].values))]\n",
        "ns_fpr, ns_tpr, _ = roc_curve(test.iloc[:,2].values, ns_probs)\n",
        "plt.plot(ns_fpr, ns_tpr, linestyle='--', label='No Skill')\n",
        "plt.plot(fpr, tpr, marker='.', label='NeuMF')\n",
        "fpr,tpr,_ = roc_curve(test.iloc[:,2].values, test_hnet)\n",
        "plt.plot(fpr, tpr, marker='.', label='HNet-DNN')\n",
        "lr_auc = roc_auc_score(test.iloc[:,2].values, y_hat_NeuMF.numpy())\n",
        "# axis labels\n",
        "plt.title('ROC Curve')\n",
        "plt.xlabel('False Positive Rate')\n",
        "plt.ylabel('True Positive Rate')\n",
        "plt.legend()\n",
        "plt.savefig('/content/drive/MyDrive/CF Dataset/Project Plots/'+'ROC_curve.png')\n",
        "print('ROC AUC Score',lr_auc)"
      ],
      "execution_count": null,
      "outputs": [
        {
          "output_type": "stream",
          "text": [
            "ROC AUC Score 0.8638499844382197\n"
          ],
          "name": "stdout"
        },
        {
          "output_type": "display_data",
          "data": {
            "image/png": "[encoded data removed]",
            "text/plain": [
              "<Figure size 432x288 with 1 Axes>"
            ]
          },
          "metadata": {
            "tags": [],
            "needs_background": "light"
          }
        }
      ]
    },
    {
      "cell_type": "code",
      "metadata": {
        "id": "dmnjDAKAYJ5K",
        "colab": {
          "base_uri": "https://localhost:8080/"
        },
        "outputId": "c1c48520-8e58-4814-89c7-fb936a7a27fc"
      },
      "source": [
        "test_hnet = pd.read_csv('/content/drive/MyDrive/CF Dataset/CDataset/result/y-HNet-DNN.txt', header=None)\n",
        "test_hnet = test_hnet.values.ravel()\n",
        "accuracy_score(test_hnet,test.iloc[:,2].values)"
      ],
      "execution_count": null,
      "outputs": [
        {
          "output_type": "execute_result",
          "data": {
            "text/plain": [
              "0.5226824457593688"
            ]
          },
          "metadata": {
            "tags": []
          },
          "execution_count": 44
        }
      ]
    },
    {
      "cell_type": "code",
      "metadata": {
        "colab": {
          "base_uri": "https://localhost:8080/",
          "height": 311
        },
        "id": "eKd1rUaWuVw_",
        "outputId": "bc0d4c66-26d7-4270-ac32-6b453e18b968"
      },
      "source": [
        "test_hnet = pd.read_csv('/content/drive/MyDrive/CF Dataset/CDataset/result/probas1-HNet-DNN.txt', header=None)\n",
        "test_hnet = test_hnet.values.ravel()\n",
        "fpr,tpr,_ = roc_curve(test.iloc[:,2].values, test_hnet)\n",
        "ns_probs = [0 for _ in range(len(test.iloc[:,2].values))]\n",
        "ns_fpr, ns_tpr, _ = roc_curve(test.iloc[:,2].values, ns_probs)\n",
        "plt.plot(ns_fpr, ns_tpr, linestyle='--', label='No Skill')\n",
        "plt.plot(fpr, tpr, marker='.', label='HNet-DNN')\n",
        "lr_auc = roc_auc_score(test.iloc[:,2].values, test_hnet)\n",
        "# axis labels\n",
        "plt.title('ROC Curve')\n",
        "plt.xlabel('False Positive Rate')\n",
        "plt.ylabel('True Positive Rate')\n",
        "plt.legend()\n",
        "# plt.savefig('/content/drive/MyDrive/CF Dataset/Project Plots/'+'ROC_curve.png')\n",
        "print('ROC AUC Score',lr_auc)"
      ],
      "execution_count": null,
      "outputs": [
        {
          "output_type": "stream",
          "text": [
            "ROC AUC Score 0.5249688764394647\n"
          ],
          "name": "stdout"
        },
        {
          "output_type": "display_data",
          "data": {
            "image/png": "[encoded data removed]",
            "text/plain": [
              "<Figure size 432x288 with 1 Axes>"
            ]
          },
          "metadata": {
            "tags": [],
            "needs_background": "light"
          }
        }
      ]
    },
    {
      "cell_type": "code",
      "metadata": {
        "colab": {
          "base_uri": "https://localhost:8080/",
          "height": 277
        },
        "id": "qFSeMdzLwF2r",
        "outputId": "d30dce59-2d6a-4131-f736-47e495a64116"
      },
      "source": [
        "#stats of evaluation metrics\n",
        "res = pd.read_csv('/content/drive/MyDrive/CF Dataset/CDataset/results_neumf.txt', sep=' ', header=None)\n",
        "res.columns = ['AUC', 'Acuracy', 'Precision', 'Recall', 'F1 Score']\n",
        "res.describe()"
      ],
      "execution_count": null,
      "outputs": [
        {
          "output_type": "execute_result",
          "data": {
            "text/html": [
              "<div>\n",
              "<style scoped>\n",
              "    .dataframe tbody tr th:only-of-type {\n",
              "        vertical-align: middle;\n",
              "    }\n",
              "\n",
              "    .dataframe tbody tr th {\n",
              "        vertical-align: top;\n",
              "    }\n",
              "\n",
              "    .dataframe thead th {\n",
              "        text-align: right;\n",
              "    }\n",
              "</style>\n",
              "<table border=\"1\" class=\"dataframe\">\n",
              "  <thead>\n",
              "    <tr style=\"text-align: right;\">\n",
              "      <th></th>\n",
              "      <th>AUC</th>\n",
              "      <th>Acuracy</th>\n",
              "      <th>Precision</th>\n",
              "      <th>Recall</th>\n",
              "      <th>F1 Score</th>\n",
              "    </tr>\n",
              "  </thead>\n",
              "  <tbody>\n",
              "    <tr>\n",
              "      <th>count</th>\n",
              "      <td>10.000000</td>\n",
              "      <td>10.000000</td>\n",
              "      <td>10.000000</td>\n",
              "      <td>10.000000</td>\n",
              "      <td>10.000000</td>\n",
              "    </tr>\n",
              "    <tr>\n",
              "      <th>mean</th>\n",
              "      <td>0.903391</td>\n",
              "      <td>0.903201</td>\n",
              "      <td>0.866045</td>\n",
              "      <td>0.954036</td>\n",
              "      <td>0.907709</td>\n",
              "    </tr>\n",
              "    <tr>\n",
              "      <th>std</th>\n",
              "      <td>0.039595</td>\n",
              "      <td>0.040567</td>\n",
              "      <td>0.047833</td>\n",
              "      <td>0.030778</td>\n",
              "      <td>0.039154</td>\n",
              "    </tr>\n",
              "    <tr>\n",
              "      <th>min</th>\n",
              "      <td>0.795793</td>\n",
              "      <td>0.793407</td>\n",
              "      <td>0.746094</td>\n",
              "      <td>0.868182</td>\n",
              "      <td>0.802521</td>\n",
              "    </tr>\n",
              "    <tr>\n",
              "      <th>25%</th>\n",
              "      <td>0.903659</td>\n",
              "      <td>0.904605</td>\n",
              "      <td>0.858645</td>\n",
              "      <td>0.959057</td>\n",
              "      <td>0.910536</td>\n",
              "    </tr>\n",
              "    <tr>\n",
              "      <th>50%</th>\n",
              "      <td>0.911552</td>\n",
              "      <td>0.909989</td>\n",
              "      <td>0.869670</td>\n",
              "      <td>0.962118</td>\n",
              "      <td>0.912540</td>\n",
              "    </tr>\n",
              "    <tr>\n",
              "      <th>75%</th>\n",
              "      <td>0.923421</td>\n",
              "      <td>0.924890</td>\n",
              "      <td>0.897022</td>\n",
              "      <td>0.964324</td>\n",
              "      <td>0.931146</td>\n",
              "    </tr>\n",
              "    <tr>\n",
              "      <th>max</th>\n",
              "      <td>0.935362</td>\n",
              "      <td>0.934211</td>\n",
              "      <td>0.912214</td>\n",
              "      <td>0.974138</td>\n",
              "      <td>0.937255</td>\n",
              "    </tr>\n",
              "  </tbody>\n",
              "</table>\n",
              "</div>"
            ],
            "text/plain": [
              "             AUC    Acuracy  Precision     Recall   F1 Score\n",
              "count  10.000000  10.000000  10.000000  10.000000  10.000000\n",
              "mean    0.903391   0.903201   0.866045   0.954036   0.907709\n",
              "std     0.039595   0.040567   0.047833   0.030778   0.039154\n",
              "min     0.795793   0.793407   0.746094   0.868182   0.802521\n",
              "25%     0.903659   0.904605   0.858645   0.959057   0.910536\n",
              "50%     0.911552   0.909989   0.869670   0.962118   0.912540\n",
              "75%     0.923421   0.924890   0.897022   0.964324   0.931146\n",
              "max     0.935362   0.934211   0.912214   0.974138   0.937255"
            ]
          },
          "metadata": {
            "tags": []
          },
          "execution_count": 61
        }
      ]
    },
    {
      "cell_type": "code",
      "metadata": {
        "id": "0b4KjC3dTypi"
      },
      "source": [
        ""
      ],
      "execution_count": null,
      "outputs": []
    },
    {
      "cell_type": "code",
      "metadata": {
        "id": "r0_8Pau-8oxb"
      },
      "source": [
        ""
      ],
      "execution_count": null,
      "outputs": []
    },
    {
      "cell_type": "markdown",
      "metadata": {
        "id": "d-T8BOgu8pBY"
      },
      "source": [
        "##**PREDICT Dataset**"
      ]
    },
    {
      "cell_type": "code",
      "metadata": {
        "colab": {
          "base_uri": "https://localhost:8080/"
        },
        "id": "_JdU5x_P9UfG",
        "outputId": "9d793897-1d8c-4a50-faa8-28e82de2dfd8"
      },
      "source": [
        "#Disease Features from heterogeneous network\n",
        "dis_features = pd.read_csv('/content/drive/MyDrive/CF Dataset/PREDICT/disease_feature.txt', header=None)\n",
        "dis_features = dis_features.iloc[:,1:].values\n",
        "dis_features.shape"
      ],
      "execution_count": null,
      "outputs": [
        {
          "output_type": "execute_result",
          "data": {
            "text/plain": [
              "(313, 905)"
            ]
          },
          "metadata": {
            "tags": []
          },
          "execution_count": 2
        }
      ]
    },
    {
      "cell_type": "code",
      "metadata": {
        "colab": {
          "base_uri": "https://localhost:8080/"
        },
        "id": "la6UN2md9UfM",
        "outputId": "343d7ceb-b5ab-41ad-a46b-955f04032cec"
      },
      "source": [
        "#Drug Features from heterogeneous network\n",
        "drug_features = pd.read_csv('/content/drive/MyDrive/CF Dataset/PREDICT/drug_feature.txt', header=None)\n",
        "drug_features = drug_features.iloc[:,1:].values\n",
        "drug_features.shape"
      ],
      "execution_count": null,
      "outputs": [
        {
          "output_type": "execute_result",
          "data": {
            "text/plain": [
              "(593, 905)"
            ]
          },
          "metadata": {
            "tags": []
          },
          "execution_count": 3
        }
      ]
    },
    {
      "cell_type": "code",
      "metadata": {
        "colab": {
          "base_uri": "https://localhost:8080/"
        },
        "id": "ggou54iF9UfN",
        "outputId": "aa793c84-5577-4b6c-bdad-31d47a17e3ec"
      },
      "source": [
        "#Drug Disease Association Matrix\n",
        "dda_mat = pd.read_csv('/content/drive/MyDrive/CF Dataset/PREDICT/DiDrAMat', sep = ' ', header=None)\n",
        "dda_mat = dda_mat.values\n",
        "dda_mat.shape"
      ],
      "execution_count": null,
      "outputs": [
        {
          "output_type": "execute_result",
          "data": {
            "text/plain": [
              "(313, 593)"
            ]
          },
          "metadata": {
            "tags": []
          },
          "execution_count": 5
        }
      ]
    },
    {
      "cell_type": "code",
      "metadata": {
        "colab": {
          "base_uri": "https://localhost:8080/"
        },
        "id": "k1fapjwf9UfN",
        "outputId": "3184fb59-90e5-432b-dad2-9165c0e36ef0"
      },
      "source": [
        "#Getting the train, validation and test datasets.\n",
        "train = pd.read_csv('/content/drive/MyDrive/CF Dataset/PREDICT/train.txt', sep=' ',header=None)\n",
        "# drug_features = pd.read_csv('/content/drive/MyDrive/CF Dataset/CDataset/drug_feature.txt', header=None)\n",
        "val = pd.read_csv('/content/drive/MyDrive/CF Dataset/PREDICT/valid.txt', sep=' ',header=None)\n",
        "test = pd.read_csv('/content/drive/MyDrive/CF Dataset/PREDICT/test.txt', sep=' ',header=None)\n",
        "final_data = pd.concat([train,val],ignore_index=True, sort=False)\n",
        "# train.head(),val.head(),test.head()\n",
        "final_data.head(),final_data.shape"
      ],
      "execution_count": null,
      "outputs": [
        {
          "output_type": "execute_result",
          "data": {
            "text/plain": [
              "(         0        1  2\n",
              " 0  DB01174  D208085  1\n",
              " 1  DB01151  D143465  1\n",
              " 2  DB00252  D104130  1\n",
              " 3  DB00637  D131200  0\n",
              " 4  DB01427  D208750  0, (3478, 3))"
            ]
          },
          "metadata": {
            "tags": []
          },
          "execution_count": 6
        }
      ]
    },
    {
      "cell_type": "code",
      "metadata": {
        "id": "TJJ3bWbJ9UfO"
      },
      "source": [
        "#Drug and Disease Features corresponding to their IDs\n",
        "drug_f = dict()\n",
        "with open('/content/drive/MyDrive/CF Dataset/PREDICT/drug_feature.txt', 'r') as f:\n",
        "    for line in f:\n",
        "        drug_id, fp = line.strip().split()\n",
        "        fp = np.array(fp.split(','), dtype='float32')\n",
        "        drug_f[drug_id] = fp\n",
        "\n",
        "disease_f = dict()\n",
        "with open('/content/drive/MyDrive/CF Dataset/PREDICT/disease_feature.txt', 'r') as f:\n",
        "    for line in f:\n",
        "        disease_id, md = line.strip().split()\n",
        "        md = np.array(md.split(','), dtype='float32')\n",
        "        disease_f[disease_id] = md"
      ],
      "execution_count": null,
      "outputs": []
    },
    {
      "cell_type": "code",
      "metadata": {
        "id": "5PHEf0w59UfO"
      },
      "source": [
        "#Giving a code to every drug and disease\n",
        "drug_code={}\n",
        "dis_code={}\n",
        "i=0\n",
        "for drug in drug_f.keys():\n",
        "  drug_code[drug]=i\n",
        "  i+=1\n",
        "i=0\n",
        "for dis in disease_f.keys():\n",
        "  dis_code[dis]=i\n",
        "  i+=1\n"
      ],
      "execution_count": null,
      "outputs": []
    },
    {
      "cell_type": "code",
      "metadata": {
        "colab": {
          "base_uri": "https://localhost:8080/"
        },
        "id": "jtbcBK6O-ZLL",
        "outputId": "cb5801ab-bfe4-49e7-9eb1-eda8543e4520"
      },
      "source": [
        "n_drugs = np.unique(train.iloc[:,0].values).shape[0]\n",
        "n_dis = np.unique(train.iloc[:,1].values).shape[0]\n",
        "print(n_drugs, n_dis)\n",
        "def get_data(data):\n",
        "  \"\"\"\n",
        "  Function that returns all 4 components of data\n",
        "  \"\"\"\n",
        "  train_drug = np.array([drug_code[d] for d in data.iloc[:,0].values])\n",
        "  train_dis = np.array([dis_code[d] for d in data.iloc[:,1].values])\n",
        "  train_drug_features = np.array([drug_f[d] for d in data.iloc[:,0].values])\n",
        "  train_dis_features = np.array([disease_f[d] for d in data.iloc[:,1].values])\n",
        "  return train_drug, train_dis, train_drug_features, train_dis_features\n",
        "train_drug, train_dis, train_drug_features, train_dis_features = get_data(train)"
      ],
      "execution_count": null,
      "outputs": [
        {
          "output_type": "stream",
          "text": [
            "593 313\n"
          ],
          "name": "stdout"
        }
      ]
    },
    {
      "cell_type": "code",
      "metadata": {
        "id": "dFKPje5x_C6A"
      },
      "source": [
        "#10 Fold CV\n",
        "from sklearn.model_selection import KFold\n",
        "kf = KFold(n_splits=10)\n"
      ],
      "execution_count": null,
      "outputs": []
    },
    {
      "cell_type": "code",
      "metadata": {
        "colab": {
          "base_uri": "https://localhost:8080/",
          "height": 1000
        },
        "id": "ZX1MGupK_C6F",
        "outputId": "0d0d7c3b-b5a8-4644-b9cf-9a15beaf1a74"
      },
      "source": [
        "gmf_model = GMF(n_drugs, n_dis)\n",
        "train_epocs_gmf(gmf_model, epochs=100, lr=0.01, wd=1e-6, unsqueeze=True)"
      ],
      "execution_count": null,
      "outputs": [
        {
          "output_type": "stream",
          "text": [
            "0.25007352232933044\n",
            "0.24997520446777344\n",
            "0.24746334552764893\n",
            "0.24236001074314117\n",
            "0.23434802889823914\n",
            "0.22375118732452393\n",
            "0.21126146614551544\n",
            "0.19792042672634125\n",
            "0.18493644893169403\n",
            "0.17334657907485962\n",
            "0.1636190563440323\n",
            "0.15559032559394836\n",
            "0.14880897104740143\n",
            "0.14285829663276672\n",
            "0.13748186826705933\n",
            "0.13254818320274353\n",
            "0.1279730200767517\n",
            "0.12367518991231918\n",
            "0.11958878487348557\n",
            "0.11567022651433945\n",
            "0.11187533289194107\n",
            "0.10815886408090591\n",
            "0.10449164360761642\n",
            "0.10086330026388168\n",
            "0.09728682041168213\n",
            "0.09379067271947861\n",
            "0.09039699286222458\n",
            "0.08711281418800354\n",
            "0.08393577486276627\n",
            "0.08085042983293533\n",
            "0.07781989127397537\n",
            "0.0748039111495018\n",
            "0.07178370654582977\n",
            "0.06876722723245621\n",
            "0.06577534973621368\n",
            "0.06283149123191833\n",
            "0.05996779724955559\n",
            "0.05721240118145943\n",
            "0.054571352899074554\n",
            "0.05204461142420769\n",
            "0.04964534938335419\n",
            "0.04742036759853363\n",
            "0.04543237388134003\n",
            "0.043710194528102875\n",
            "0.04219783470034599\n",
            "0.04083189368247986\n",
            "0.039611563086509705\n",
            "0.03855879232287407\n",
            "0.037665240466594696\n",
            "0.03688167408108711\n",
            "0.036142054945230484\n",
            "0.03541041165590286\n",
            "0.03468332067131996\n",
            "0.03398929163813591\n",
            "0.03332511708140373\n",
            "0.03269074484705925\n",
            "0.03211475908756256\n",
            "0.031605251133441925\n",
            "0.03116123378276825\n",
            "0.030780890956521034\n",
            "0.030461275950074196\n",
            "0.03017699345946312\n",
            "0.02989462949335575\n",
            "0.029607878997921944\n",
            "0.029314573854207993\n",
            "0.029036767780780792\n",
            "0.028829339891672134\n",
            "0.028701301664114\n",
            "0.028613725677132607\n",
            "0.02852170169353485\n",
            "0.028407083824276924\n",
            "0.02825721725821495\n",
            "0.02806597203016281\n",
            "0.02787693589925766\n",
            "0.027750609442591667\n",
            "0.027627304196357727\n",
            "0.027442773804068565\n",
            "0.02723802998661995\n",
            "0.02708970569074154\n",
            "0.02696717530488968\n",
            "0.02684870734810829\n",
            "0.02676681987941265\n",
            "0.026703346520662308\n",
            "0.026625022292137146\n",
            "0.026543447747826576\n",
            "0.026495616883039474\n",
            "0.02646375074982643\n",
            "0.026417089626193047\n",
            "0.02633654698729515\n",
            "0.0262231957167387\n",
            "0.026131054386496544\n",
            "0.026076799258589745\n",
            "0.026033449918031693\n",
            "0.025975268334150314\n",
            "0.025910312309861183\n",
            "0.02585439197719097\n",
            "0.02579290047287941\n",
            "0.025703633204102516\n",
            "0.025604838505387306\n",
            "0.02555651217699051\n",
            "save\n"
          ],
          "name": "stdout"
        },
        {
          "output_type": "display_data",
          "data": {
            "image/png": "[encoded data removed]",
            "text/plain": [
              "<Figure size 432x288 with 1 Axes>"
            ]
          },
          "metadata": {
            "tags": [],
            "needs_background": "light"
          }
        }
      ]
    },
    {
      "cell_type": "code",
      "metadata": {
        "colab": {
          "base_uri": "https://localhost:8080/",
          "height": 1000
        },
        "id": "Pj_--Ssb_C6G",
        "outputId": "c7b42cac-ff96-4125-9c65-e53cbff08467"
      },
      "source": [
        "# build the mlp model\n",
        "mlp_model = MLP(n_drugs, n_dis)#.cuda()\n",
        "\n",
        "\n",
        "\n",
        "# train the model\n",
        "#train_epocs_mlp(mlp_model, epochs=1000, lr=0.001, wd=1e-6, unsqueeze=True) #if use cuda the epochs could use 1000\n",
        "train_epocs_mlp(mlp_model, epochs=100, lr=0.01, wd=1e-6, unsqueeze=True)"
      ],
      "execution_count": null,
      "outputs": [
        {
          "output_type": "stream",
          "text": [
            "0.258908212184906\n",
            "0.25563135743141174\n",
            "0.2542138397693634\n",
            "0.2511845529079437\n",
            "0.24819880723953247\n",
            "0.24738048017024994\n",
            "0.24328139424324036\n",
            "0.23719008266925812\n",
            "0.23305891454219818\n",
            "0.22215774655342102\n",
            "0.21283598244190216\n",
            "0.20397669076919556\n",
            "0.20701386034488678\n",
            "0.19490262866020203\n",
            "0.1906452775001526\n",
            "0.18405656516551971\n",
            "0.18545791506767273\n",
            "0.17841145396232605\n",
            "0.1733502894639969\n",
            "0.1712004542350769\n",
            "0.1686868965625763\n",
            "0.16271796822547913\n",
            "0.1646546721458435\n",
            "0.1576666235923767\n",
            "0.1564493179321289\n",
            "0.15279650688171387\n",
            "0.14693495631217957\n",
            "0.14888818562030792\n",
            "0.14376884698867798\n",
            "0.1401924043893814\n",
            "0.13832035660743713\n",
            "0.13321459293365479\n",
            "0.1374940425157547\n",
            "0.12935619056224823\n",
            "0.1285666674375534\n",
            "0.13142460584640503\n",
            "0.12248800694942474\n",
            "0.12464876472949982\n",
            "0.12020457535982132\n",
            "0.11949760466814041\n",
            "0.12132351845502853\n",
            "0.11496831476688385\n",
            "0.11395791918039322\n",
            "0.11394345760345459\n",
            "0.11095847189426422\n",
            "0.10638470947742462\n",
            "0.10710161179304123\n",
            "0.10640902817249298\n",
            "0.10731980204582214\n",
            "0.1177346259355545\n",
            "0.13208389282226562\n",
            "0.10385256260633469\n",
            "0.13146443665027618\n",
            "0.10114695876836777\n",
            "0.11690147966146469\n",
            "0.10922359675168991\n",
            "0.10632270574569702\n",
            "0.10831775516271591\n",
            "0.09821230918169022\n",
            "0.10549616813659668\n",
            "0.09726106375455856\n",
            "0.1009909063577652\n",
            "0.09543611854314804\n",
            "0.09500383585691452\n",
            "0.09346479177474976\n",
            "0.09085921198129654\n",
            "0.09025789797306061\n",
            "0.09085067361593246\n",
            "0.08963724970817566\n",
            "0.0871744155883789\n",
            "0.08448390662670135\n",
            "0.08515778183937073\n",
            "0.0840211883187294\n",
            "0.0820479542016983\n",
            "0.07973452657461166\n",
            "0.07919271290302277\n",
            "0.07874368876218796\n",
            "0.07501272857189178\n",
            "0.07484104484319687\n",
            "0.07334283739328384\n",
            "0.07262764871120453\n",
            "0.07003505527973175\n",
            "0.07014299184083939\n",
            "0.06824366748332977\n",
            "0.07008367031812668\n",
            "0.0691424310207367\n",
            "0.0664539709687233\n",
            "0.06655089557170868\n",
            "0.06651172786951065\n",
            "0.06567471474409103\n",
            "0.06393595784902573\n",
            "0.06075393408536911\n",
            "0.06579937040805817\n",
            "0.06369584053754807\n",
            "0.06271857023239136\n",
            "0.05819844827055931\n",
            "0.05876624584197998\n",
            "0.059260591864585876\n",
            "0.0580870620906353\n",
            "0.0623474158346653\n",
            "save\n"
          ],
          "name": "stdout"
        },
        {
          "output_type": "display_data",
          "data": {
            "image/png": "[encoded data removed]",
            "text/plain": [
              "<Figure size 432x288 with 1 Axes>"
            ]
          },
          "metadata": {
            "tags": [],
            "needs_background": "light"
          }
        }
      ]
    },
    {
      "cell_type": "code",
      "metadata": {
        "colab": {
          "base_uri": "https://localhost:8080/",
          "height": 522
        },
        "id": "tu0FPkyN_C6H",
        "outputId": "ef325b10-50dc-4c4e-fd10-ff1449210ecc"
      },
      "source": [
        "NeuMF_model = NeuMF(n_drugs, n_dis,layers=[64,32,16,8])#.cuda()\n",
        "\n",
        "\n",
        "# load the pre-training models of GMF and MLP\n",
        "NeuMF_model.load_pretrain_weights()\n",
        "\n",
        "\n",
        "# train the model\n",
        "#train_epocs_NeuMF(NeuMF_model, epochs=1500, lr=0.0001, wd=1e-6, unsqueeze=True) #if use cuda, the epochs could use 1500\n",
        "train_epocs_NeuMF(NeuMF_model, epochs=100, lr=0.01, wd=1e-6, unsqueeze=True)"
      ],
      "execution_count": null,
      "outputs": [
        {
          "output_type": "stream",
          "text": [
            "test_auc, test_acc, test_prec, test_recall, test_f1\n",
            "0.8966473988439306 0.896551724137931 0.88268156424581 0.9132947976878613 0.8977272727272727\n",
            "0.8924603174603175 0.8936781609195402 0.8743455497382199 0.9277777777777778 0.9002695417789757\n",
            "0.9148037754595132 0.9166666666666666 0.8969072164948454 0.9508196721311475 0.923076923076923\n",
            "0.9011425732737208 0.9022988505747126 0.8941798941798942 0.9234972677595629 0.9086021505376344\n",
            "0.9430555555555556 0.9425287356321839 0.9252873563218391 0.9583333333333334 0.9415204678362572\n",
            "0.9165671047391477 0.9137931034482759 0.8707865168539326 0.9567901234567902 0.911764705882353\n",
            "0.8988150403813054 0.8994252873563219 0.8972972972972973 0.9120879120879121 0.9046321525885558\n",
            "0.9056757928435656 0.9051724137931034 0.8827160493827161 0.910828025477707 0.8965517241379312\n",
            "0.8757728874409946 0.8760806916426513 0.8729281767955801 0.8876404494382022 0.8802228412256268\n",
            "0.7302972865123702 0.729106628242075 0.7010869565217391 0.7678571428571429 0.7329545454545454\n",
            "Average\n",
            "0.887523773251042 0.8875302262413461 0.8698216577831873 0.9108926502007437 0.8897322325246074\n",
            "save\n"
          ],
          "name": "stdout"
        },
        {
          "output_type": "display_data",
          "data": {
            "image/png": "[encoded data removed]",
            "text/plain": [
              "<Figure size 432x288 with 1 Axes>"
            ]
          },
          "metadata": {
            "tags": [],
            "needs_background": "light"
          }
        }
      ]
    },
    {
      "cell_type": "code",
      "metadata": {
        "colab": {
          "base_uri": "https://localhost:8080/"
        },
        "id": "ENTGuJgtBPRb",
        "outputId": "1251fac6-ee3b-472b-c05c-4c4dd5fc5cca"
      },
      "source": [
        "NeuMF_model.eval()\n",
        "test_drug, test_dis, test_drug_features, test_dis_features = get_data(test)\n",
        "with torch.no_grad():\n",
        "    test_users = torch.LongTensor(test_drug)#.cuda()\n",
        "    test_items = torch.LongTensor(test_dis)#.cuda()\n",
        "    test_drug_features = torch.Tensor(test_drug_features)\n",
        "    test_dis_features = torch.Tensor(test_dis_features)\n",
        "    users = torch.LongTensor(train_drug)\n",
        "    items = torch.LongTensor(train_dis)\n",
        "    drugs = torch.Tensor(train_drug_features)\n",
        "    dis = torch.Tensor(train_dis_features)\n",
        "    y_hat_NeuMF = NeuMF_model(test_users, test_items, test_drug_features, test_dis_features)\n",
        "    y_hat_NeuMF_train = NeuMF_model(users, items, drugs, dis)\n",
        "    print(y_hat_NeuMF)\n",
        "    print(y_hat_NeuMF_train)\n",
        "    # rating_NeuMF = [element.item() for element in y_hat_NeuMF.flatten()]\n",
        "    # df_NeuMF=pd.DataFrame({'user_id':val_drug,'item_id':val_dis,'rating':rating_NeuMF})\n",
        "    # # df_NeuMF_sort=df_NeuMF.sort_values(by=['user_id','rating'],ascending=[True,False])\n",
        "    # final_NeuMF=df_NeuMF_sort.groupby('user_id').head(10)\n",
        "    # final_NeuMF.to_csv('final_NeuMF.csv',index=False)\n",
        "    # final_NeuMF=final_NeuMF.drop(columns=['rating'])\n",
        "    "
      ],
      "execution_count": null,
      "outputs": [
        {
          "output_type": "stream",
          "text": [
            "tensor([[2.6846e-03],\n",
            "        [9.5874e-01],\n",
            "        [4.7137e-03],\n",
            "        [3.1115e-01],\n",
            "        [5.6431e-01],\n",
            "        [8.9524e-01],\n",
            "        [9.8473e-01],\n",
            "        [9.2417e-01],\n",
            "        [4.4528e-01],\n",
            "        [9.9999e-01],\n",
            "        [4.9514e-01],\n",
            "        [3.8601e-01],\n",
            "        [1.2249e-01],\n",
            "        [3.2624e-01],\n",
            "        [3.7469e-04],\n",
            "        [1.6392e-02],\n",
            "        [1.0210e-03],\n",
            "        [2.4962e-01],\n",
            "        [2.9916e-02],\n",
            "        [9.8522e-01],\n",
            "        [3.0266e-02],\n",
            "        [9.0117e-01],\n",
            "        [5.2110e-03],\n",
            "        [1.2349e-01],\n",
            "        [9.0625e-01],\n",
            "        [9.4002e-01],\n",
            "        [9.8592e-01],\n",
            "        [3.4422e-01],\n",
            "        [1.2524e-04],\n",
            "        [9.1265e-01],\n",
            "        [1.8087e-03],\n",
            "        [9.0561e-01],\n",
            "        [9.6617e-01],\n",
            "        [2.7104e-05],\n",
            "        [9.9360e-01],\n",
            "        [9.9693e-01],\n",
            "        [1.0000e+00],\n",
            "        [9.9999e-01],\n",
            "        [9.9493e-01],\n",
            "        [9.2534e-01],\n",
            "        [9.3912e-01],\n",
            "        [1.5176e-02],\n",
            "        [6.4118e-01],\n",
            "        [5.5256e-01],\n",
            "        [9.9994e-01],\n",
            "        [2.4870e-01],\n",
            "        [2.7294e-02],\n",
            "        [7.9040e-02],\n",
            "        [4.8288e-01],\n",
            "        [1.0000e+00],\n",
            "        [9.8614e-01],\n",
            "        [9.4309e-03],\n",
            "        [8.9243e-01],\n",
            "        [9.9829e-01],\n",
            "        [4.2988e-01],\n",
            "        [1.0000e+00],\n",
            "        [1.1230e-04],\n",
            "        [9.5015e-01],\n",
            "        [2.9608e-02],\n",
            "        [9.3334e-01],\n",
            "        [9.5189e-01],\n",
            "        [3.1691e-01],\n",
            "        [1.7627e-02],\n",
            "        [6.8760e-03],\n",
            "        [9.4898e-01],\n",
            "        [9.8706e-01],\n",
            "        [4.8352e-02],\n",
            "        [9.7529e-01],\n",
            "        [9.8834e-01],\n",
            "        [4.5924e-01],\n",
            "        [7.7502e-02],\n",
            "        [8.2582e-01],\n",
            "        [9.1704e-01],\n",
            "        [2.0226e-01],\n",
            "        [9.9999e-01],\n",
            "        [9.6656e-01],\n",
            "        [8.2421e-01],\n",
            "        [1.1873e-03],\n",
            "        [3.1640e-01],\n",
            "        [8.3062e-01],\n",
            "        [4.7641e-01],\n",
            "        [1.1898e-02],\n",
            "        [9.9971e-01],\n",
            "        [5.4956e-06],\n",
            "        [9.8880e-01],\n",
            "        [5.1551e-07],\n",
            "        [6.9072e-01],\n",
            "        [4.0546e-01],\n",
            "        [2.1896e-01],\n",
            "        [7.2469e-01],\n",
            "        [9.8487e-01],\n",
            "        [9.9179e-01],\n",
            "        [9.2890e-01],\n",
            "        [9.9995e-01],\n",
            "        [7.9186e-03],\n",
            "        [5.1231e-01],\n",
            "        [9.9688e-01],\n",
            "        [5.4422e-01],\n",
            "        [1.8707e-04],\n",
            "        [7.2390e-04],\n",
            "        [1.7556e-04],\n",
            "        [9.8650e-01],\n",
            "        [8.3444e-01],\n",
            "        [7.3519e-01],\n",
            "        [9.9580e-01],\n",
            "        [5.0387e-01],\n",
            "        [2.1031e-01],\n",
            "        [9.9990e-01],\n",
            "        [6.7844e-01],\n",
            "        [1.1490e-01],\n",
            "        [4.8011e-03],\n",
            "        [9.2460e-01],\n",
            "        [6.7881e-01],\n",
            "        [9.3334e-01],\n",
            "        [1.0000e+00],\n",
            "        [9.8952e-01],\n",
            "        [1.2624e-02],\n",
            "        [3.4954e-02],\n",
            "        [2.0913e-03],\n",
            "        [4.6493e-01],\n",
            "        [1.0000e+00],\n",
            "        [1.0948e-01],\n",
            "        [9.4918e-01],\n",
            "        [9.7998e-01],\n",
            "        [1.4035e-02],\n",
            "        [5.5992e-01],\n",
            "        [8.6774e-01],\n",
            "        [9.6745e-01],\n",
            "        [9.8841e-01],\n",
            "        [7.1220e-04],\n",
            "        [9.5387e-01],\n",
            "        [2.4572e-04],\n",
            "        [9.9387e-01],\n",
            "        [6.1073e-01],\n",
            "        [1.1238e-01],\n",
            "        [4.3563e-05],\n",
            "        [9.6233e-02],\n",
            "        [3.2742e-01],\n",
            "        [1.0000e+00],\n",
            "        [8.3201e-01],\n",
            "        [9.5768e-01],\n",
            "        [1.3166e-01],\n",
            "        [9.9999e-01],\n",
            "        [7.0462e-01],\n",
            "        [5.2619e-01],\n",
            "        [8.7743e-01],\n",
            "        [4.1945e-01],\n",
            "        [8.4016e-05],\n",
            "        [9.2966e-01],\n",
            "        [7.8113e-02],\n",
            "        [5.8346e-01],\n",
            "        [4.4911e-04],\n",
            "        [6.1410e-02],\n",
            "        [9.9882e-01],\n",
            "        [6.0107e-01],\n",
            "        [2.6757e-03],\n",
            "        [8.6358e-01],\n",
            "        [1.5183e-04],\n",
            "        [4.7921e-01],\n",
            "        [3.6476e-01],\n",
            "        [5.0093e-01],\n",
            "        [2.1556e-03],\n",
            "        [9.3911e-01],\n",
            "        [2.5548e-01],\n",
            "        [9.8077e-01],\n",
            "        [8.7614e-01],\n",
            "        [5.3328e-01],\n",
            "        [6.8790e-01],\n",
            "        [9.5068e-01],\n",
            "        [9.4391e-01],\n",
            "        [6.8212e-01],\n",
            "        [8.6048e-02],\n",
            "        [5.6910e-05],\n",
            "        [7.7099e-01],\n",
            "        [3.4207e-01],\n",
            "        [8.8754e-01],\n",
            "        [9.8422e-01],\n",
            "        [4.8910e-01],\n",
            "        [8.9626e-01],\n",
            "        [6.9728e-05],\n",
            "        [8.8950e-01],\n",
            "        [9.9970e-01],\n",
            "        [3.6277e-02],\n",
            "        [3.3073e-01],\n",
            "        [8.9361e-01],\n",
            "        [1.0000e+00],\n",
            "        [9.2958e-01],\n",
            "        [8.5961e-01],\n",
            "        [5.2790e-02],\n",
            "        [3.1326e-01],\n",
            "        [7.2776e-05],\n",
            "        [3.7704e-01],\n",
            "        [9.8355e-04],\n",
            "        [9.2076e-01],\n",
            "        [8.1977e-01],\n",
            "        [9.5697e-01],\n",
            "        [4.8123e-01],\n",
            "        [9.7113e-01],\n",
            "        [4.4746e-02],\n",
            "        [4.4036e-01],\n",
            "        [2.6971e-02],\n",
            "        [4.6802e-01],\n",
            "        [1.3049e-01],\n",
            "        [7.5534e-01],\n",
            "        [9.9613e-01],\n",
            "        [8.7459e-04],\n",
            "        [9.6786e-01],\n",
            "        [3.2821e-01],\n",
            "        [6.3576e-01],\n",
            "        [1.6700e-01],\n",
            "        [1.9955e-06],\n",
            "        [7.8783e-02],\n",
            "        [2.7735e-01],\n",
            "        [9.2542e-01],\n",
            "        [3.4202e-01],\n",
            "        [8.6574e-01],\n",
            "        [8.9504e-01],\n",
            "        [3.7264e-04],\n",
            "        [9.7958e-01],\n",
            "        [2.1756e-01],\n",
            "        [9.0534e-01],\n",
            "        [9.4661e-01],\n",
            "        [5.4446e-08],\n",
            "        [5.1676e-01],\n",
            "        [1.7184e-01],\n",
            "        [6.2875e-01],\n",
            "        [1.0707e-01],\n",
            "        [8.9043e-03],\n",
            "        [9.9761e-01],\n",
            "        [9.0471e-01],\n",
            "        [8.2436e-01],\n",
            "        [3.5272e-01],\n",
            "        [5.1891e-03],\n",
            "        [8.1733e-01],\n",
            "        [9.6940e-01],\n",
            "        [7.2232e-01],\n",
            "        [4.2197e-04],\n",
            "        [5.6063e-01],\n",
            "        [6.2698e-01],\n",
            "        [2.7529e-01],\n",
            "        [5.3939e-01],\n",
            "        [5.8290e-01],\n",
            "        [8.9594e-01],\n",
            "        [8.3849e-01],\n",
            "        [7.5044e-01],\n",
            "        [8.7410e-01],\n",
            "        [9.4382e-01],\n",
            "        [9.0125e-01],\n",
            "        [9.4682e-01],\n",
            "        [9.2383e-01],\n",
            "        [9.9966e-01],\n",
            "        [9.5945e-01],\n",
            "        [1.3909e-02],\n",
            "        [1.8705e-03],\n",
            "        [1.0000e+00],\n",
            "        [7.0982e-03],\n",
            "        [4.0368e-01],\n",
            "        [2.0262e-04],\n",
            "        [5.6282e-02],\n",
            "        [2.2367e-01],\n",
            "        [9.9838e-01],\n",
            "        [9.9800e-01],\n",
            "        [5.1212e-03],\n",
            "        [4.6405e-02],\n",
            "        [4.9383e-03],\n",
            "        [9.3220e-01],\n",
            "        [6.8334e-01],\n",
            "        [2.5507e-03],\n",
            "        [4.8138e-03],\n",
            "        [8.9540e-01],\n",
            "        [9.4407e-01],\n",
            "        [9.7781e-01],\n",
            "        [2.7705e-02],\n",
            "        [8.2651e-01],\n",
            "        [4.8606e-03],\n",
            "        [4.1332e-02],\n",
            "        [3.2937e-02],\n",
            "        [7.0119e-03],\n",
            "        [1.8607e-01],\n",
            "        [2.7650e-01],\n",
            "        [5.8894e-01],\n",
            "        [7.4527e-02],\n",
            "        [6.5429e-01],\n",
            "        [3.8243e-01],\n",
            "        [8.7078e-01],\n",
            "        [7.0589e-01],\n",
            "        [2.4759e-03],\n",
            "        [5.1242e-02],\n",
            "        [4.5534e-01],\n",
            "        [3.1101e-01],\n",
            "        [1.0305e-01],\n",
            "        [9.5332e-01],\n",
            "        [5.8097e-01],\n",
            "        [9.9317e-01],\n",
            "        [9.0835e-01],\n",
            "        [9.4020e-01],\n",
            "        [9.5082e-01],\n",
            "        [8.7303e-01],\n",
            "        [9.3790e-01],\n",
            "        [9.9911e-01],\n",
            "        [5.4146e-01],\n",
            "        [8.0337e-02],\n",
            "        [4.1233e-01],\n",
            "        [3.5651e-01],\n",
            "        [4.7450e-02],\n",
            "        [1.2587e-01],\n",
            "        [2.1754e-01],\n",
            "        [9.0038e-01],\n",
            "        [9.9998e-01],\n",
            "        [7.3628e-03],\n",
            "        [9.6231e-01],\n",
            "        [1.1039e-01],\n",
            "        [2.2608e-05],\n",
            "        [1.3579e-03],\n",
            "        [3.4418e-01],\n",
            "        [1.6104e-03],\n",
            "        [3.9480e-03],\n",
            "        [4.0159e-03],\n",
            "        [8.4327e-03],\n",
            "        [8.1382e-01],\n",
            "        [9.8218e-01],\n",
            "        [9.3626e-01],\n",
            "        [9.7153e-01],\n",
            "        [6.2360e-06],\n",
            "        [9.5668e-01],\n",
            "        [1.0000e+00],\n",
            "        [9.7789e-01],\n",
            "        [7.7418e-01],\n",
            "        [9.9036e-01],\n",
            "        [8.5352e-01],\n",
            "        [6.4573e-03],\n",
            "        [3.6384e-02],\n",
            "        [5.7525e-02],\n",
            "        [7.7058e-01],\n",
            "        [1.1555e-02],\n",
            "        [9.9867e-01],\n",
            "        [3.4741e-02],\n",
            "        [3.7766e-01],\n",
            "        [5.1688e-01],\n",
            "        [4.8146e-01],\n",
            "        [5.4109e-02],\n",
            "        [1.0000e+00],\n",
            "        [9.7364e-01],\n",
            "        [9.9945e-01],\n",
            "        [3.0482e-02],\n",
            "        [3.3351e-02],\n",
            "        [5.6171e-01],\n",
            "        [9.5400e-01],\n",
            "        [9.9489e-01],\n",
            "        [5.0240e-01],\n",
            "        [7.7750e-01],\n",
            "        [9.8482e-01],\n",
            "        [1.2067e-01],\n",
            "        [5.1538e-01],\n",
            "        [4.6172e-03],\n",
            "        [8.1135e-01],\n",
            "        [4.8108e-03],\n",
            "        [3.1021e-03],\n",
            "        [6.8534e-02],\n",
            "        [1.0000e+00],\n",
            "        [9.6970e-01],\n",
            "        [9.9261e-01],\n",
            "        [9.7285e-01],\n",
            "        [2.6329e-02],\n",
            "        [3.4895e-02],\n",
            "        [6.6292e-02],\n",
            "        [2.7659e-03],\n",
            "        [9.9492e-01],\n",
            "        [9.6921e-01],\n",
            "        [8.7356e-01],\n",
            "        [9.3706e-01],\n",
            "        [9.9284e-01],\n",
            "        [5.1921e-03],\n",
            "        [1.0482e-01],\n",
            "        [7.7247e-01],\n",
            "        [7.3017e-02],\n",
            "        [9.8115e-04],\n",
            "        [9.6068e-01],\n",
            "        [5.8691e-01],\n",
            "        [9.7577e-01],\n",
            "        [1.0074e-04],\n",
            "        [9.9277e-01],\n",
            "        [9.3400e-01],\n",
            "        [9.9725e-01],\n",
            "        [2.1845e-05],\n",
            "        [9.6188e-01],\n",
            "        [2.4670e-01],\n",
            "        [9.9924e-01]])\n",
            "tensor([[0.9648],\n",
            "        [0.7824],\n",
            "        [0.9502],\n",
            "        ...,\n",
            "        [0.9597],\n",
            "        [0.9934],\n",
            "        [0.8756]])\n"
          ],
          "name": "stdout"
        }
      ]
    },
    {
      "cell_type": "code",
      "metadata": {
        "colab": {
          "base_uri": "https://localhost:8080/"
        },
        "id": "ITNqgGJoBPRd",
        "outputId": "935c5abe-6fe5-469c-acd2-aaf56d9b874a"
      },
      "source": [
        "from sklearn.metrics import accuracy_score\n",
        "# accuracy_score(np.round(y_hat_NeuMF.numpy()),test.iloc[:,2].values), accuracy_score(np.round(y_hat_NeuMF_train.numpy()),train.iloc[:,2].values)\n",
        "accuracy_score(np.round(y_hat_NeuMF.numpy()),test.iloc[:,2].values)"
      ],
      "execution_count": null,
      "outputs": [
        {
          "output_type": "execute_result",
          "data": {
            "text/plain": [
              "0.7087628865979382"
            ]
          },
          "metadata": {
            "tags": []
          },
          "execution_count": 27
        }
      ]
    },
    {
      "cell_type": "code",
      "metadata": {
        "colab": {
          "base_uri": "https://localhost:8080/",
          "height": 327
        },
        "id": "Orn7K7jQBPRe",
        "outputId": "72fe163f-ce8e-43ea-dbd7-f00e4a3816a2"
      },
      "source": [
        "prec, recall, threshold = precision_recall_curve(test.iloc[:,2].values, y_hat_NeuMF.numpy())\n",
        "lr_f1, lr_auc = f1_score(test.iloc[:,2].values, np.round(y_hat_NeuMF.numpy())), auc(recall, prec)\n",
        "no_skill = len(test.iloc[:,2].values[test.iloc[:,2].values==1]) / len(test.iloc[:,2].values)\n",
        "plt.plot([0, 1], [no_skill, no_skill], linestyle='--', label='No Skill')\n",
        "plt.plot(recall, prec, marker='.', label='NeuMF')\n",
        "# prec, recall, threshold = precision_recall_curve(test.iloc[:,2].values, test_hnet)\n",
        "# plt.plot(recall, prec, marker='.', label='HNet')\n",
        "plt.xlabel('Recall')\n",
        "plt.ylabel('Precision')\n",
        "plt.title('Precision Recall Curve')\n",
        "plt.legend()\n",
        "plt.savefig('/content/drive/MyDrive/CF Dataset/Project Plots/'+'precision_recall_curve_test.png')\n",
        "print('F1 Score',lr_f1)\n",
        "print('AUC', lr_auc)"
      ],
      "execution_count": null,
      "outputs": [
        {
          "output_type": "stream",
          "text": [
            "F1 Score 0.7237163814180929\n",
            "AUC 0.804347960917011\n"
          ],
          "name": "stdout"
        },
        {
          "output_type": "display_data",
          "data": {
            "image/png": "[encoded data removed]",
            "text/plain": [
              "<Figure size 432x288 with 1 Axes>"
            ]
          },
          "metadata": {
            "tags": [],
            "needs_background": "light"
          }
        }
      ]
    },
    {
      "cell_type": "code",
      "metadata": {
        "colab": {
          "base_uri": "https://localhost:8080/",
          "height": 311
        },
        "id": "XWCpfj_fBPRf",
        "outputId": "a66887ba-6ca7-43be-a129-cadfc14289ae"
      },
      "source": [
        "fpr,tpr,_ = roc_curve(test.iloc[:,2].values, y_hat_NeuMF.numpy())\n",
        "ns_probs = [0 for _ in range(len(test.iloc[:,2].values))]\n",
        "ns_fpr, ns_tpr, _ = roc_curve(test.iloc[:,2].values, ns_probs)\n",
        "plt.plot(ns_fpr, ns_tpr, linestyle='--', label='No Skill')\n",
        "plt.plot(fpr, tpr, marker='.', label='NeuMF')\n",
        "# fpr,tpr,_ = roc_curve(test.iloc[:,2].values, test_hnet)\n",
        "# plt.plot(fpr, tpr, marker='.', label='HNet-DNN')\n",
        "lr_auc = roc_auc_score(test.iloc[:,2].values, y_hat_NeuMF.numpy())\n",
        "# axis labels\n",
        "plt.title('ROC Curve')\n",
        "plt.xlabel('False Positive Rate')\n",
        "plt.ylabel('True Positive Rate')\n",
        "plt.legend()\n",
        "plt.savefig('/content/drive/MyDrive/CF Dataset/Project Plots/'+'ROC_curve.png')\n",
        "print('ROC AUC Score',lr_auc)"
      ],
      "execution_count": null,
      "outputs": [
        {
          "output_type": "stream",
          "text": [
            "ROC AUC Score 0.795698067054851\n"
          ],
          "name": "stdout"
        },
        {
          "output_type": "display_data",
          "data": {
            "image/png": "[encoded data removed]",
            "text/plain": [
              "<Figure size 432x288 with 1 Axes>"
            ]
          },
          "metadata": {
            "tags": [],
            "needs_background": "light"
          }
        }
      ]
    },
    {
      "cell_type": "code",
      "metadata": {
        "colab": {
          "base_uri": "https://localhost:8080/"
        },
        "id": "v_F7RDyc8sdG",
        "outputId": "8fea32ad-c0df-4061-ebbc-d7df9b42ebf1"
      },
      "source": [
        ""
      ],
      "execution_count": null,
      "outputs": [
        {
          "output_type": "execute_result",
          "data": {
            "text/plain": [
              "array([[0.      , 0.      , 0.      , ..., 0.093864, 0.      , 0.      ],\n",
              "       [0.      , 0.      , 0.      , ..., 0.      , 0.      , 0.      ],\n",
              "       [0.      , 0.      , 0.      , ..., 0.018169, 0.10412 , 0.094949],\n",
              "       ...,\n",
              "       [0.      , 0.      , 0.      , ..., 0.017786, 0.      , 0.10211 ],\n",
              "       [0.      , 0.      , 0.      , ..., 0.041078, 0.11758 , 0.10773 ],\n",
              "       [0.      , 0.      , 0.      , ..., 0.023215, 0.066794, 0.060911]],\n",
              "      dtype=float32)"
            ]
          },
          "metadata": {
            "tags": []
          },
          "execution_count": 19
        }
      ]
    },
    {
      "cell_type": "code",
      "metadata": {
        "id": "CtfXOuMQ_sfo"
      },
      "source": [
        ""
      ],
      "execution_count": null,
      "outputs": []
    }
  ]
}